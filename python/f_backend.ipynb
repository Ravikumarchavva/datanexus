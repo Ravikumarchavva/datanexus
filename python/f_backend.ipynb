{
 "cells": [
  {
   "cell_type": "markdown",
   "id": "48adb57b",
   "metadata": {},
   "source": [
    "handling env variable and paths"
   ]
  },
  {
   "cell_type": "markdown",
   "id": "b77ad2a1",
   "metadata": {},
   "source": []
  }
 ],
 "metadata": {
  "language_info": {
   "name": "python"
  }
 },
 "nbformat": 4,
 "nbformat_minor": 5
}
