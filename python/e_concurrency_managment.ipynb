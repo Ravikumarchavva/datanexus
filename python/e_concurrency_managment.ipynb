{
 "cells": [
  {
   "cell_type": "markdown",
   "id": "74e29073",
   "metadata": {},
   "source": [
    "# Concurrency Management in Python\n",
    "\n",
    "This notebook introduces concurrency concepts in Python, including threading, multiprocessing, and async programming. You'll learn when and how to use each approach, with practical code examples."
   ]
  },
  {
   "cell_type": "markdown",
   "id": "809539e5",
   "metadata": {},
   "source": [
    "## Table of Contents\n",
    "1. Introduction to Concurrency\n",
    "2. Threading\n",
    "3. Multiprocessing\n",
    "4. AsyncIO (Asynchronous Programming)\n",
    "5. When to Use Each Approach\n",
    "6. Best Practices"
   ]
  },
  {
   "cell_type": "markdown",
   "id": "d2b22a15",
   "metadata": {},
   "source": [
    "## 1. Introduction to Concurrency\n",
    "\n",
    "Concurrency allows a program to manage multiple tasks at the same time, improving efficiency and responsiveness. Python supports several concurrency models:\n",
    "- Threading: Lightweight, shared memory, good for I/O-bound tasks.\n",
    "- Multiprocessing: Separate processes, good for CPU-bound tasks.\n",
    "- AsyncIO: Single-threaded, event-driven, good for high-level structured network code."
   ]
  },
  {
   "cell_type": "markdown",
   "id": "f065b47d",
   "metadata": {},
   "source": [
    "## 2. Threading\n",
    "\n",
    "Threading enables concurrent execution of code using multiple threads within a single process. Useful for I/O-bound operations (e.g., file/network access)."
   ]
  },
  {
   "cell_type": "code",
   "execution_count": 1,
   "id": "bce0f400",
   "metadata": {},
   "outputs": [
    {
     "name": "stdout",
     "output_type": "stream",
     "text": [
      "Number: 0\n",
      "Letter: a\n",
      "Number: 1\n",
      "Letter: b\n",
      "Number: 2\n",
      "Letter: c\n",
      "Number: 3\n",
      "Letter: d\n",
      "Number: 4\n",
      "Letter: e\n",
      "Threading example complete.\n"
     ]
    }
   ],
   "source": [
    "import threading\n",
    "import time\n",
    "\n",
    "def print_numbers():\n",
    "    for i in range(5):\n",
    "        print(f\"Number: {i}\")\n",
    "        time.sleep(0.5)\n",
    "\n",
    "def print_letters():\n",
    "    for letter in 'abcde':\n",
    "        print(f\"Letter: {letter}\")\n",
    "        time.sleep(0.5)\n",
    "\n",
    "# Create threads\n",
    "thread1 = threading.Thread(target=print_numbers)\n",
    "thread2 = threading.Thread(target=print_letters)\n",
    "\n",
    "# Start threads\n",
    "thread1.start()\n",
    "thread2.start()\n",
    "\n",
    "# Wait for both threads to finish\n",
    "thread1.join()\n",
    "thread2.join()\n",
    "print(\"Threading example complete.\")"
   ]
  },
  {
   "cell_type": "markdown",
   "id": "a115bd05",
   "metadata": {},
   "source": [
    "## 3. Multiprocessing\n",
    "\n",
    "Multiprocessing allows you to run code in parallel using multiple processes, each with its own Python interpreter. Useful for CPU-bound tasks."
   ]
  },
  {
   "cell_type": "code",
   "execution_count": 2,
   "id": "416f1146",
   "metadata": {},
   "outputs": [
    {
     "name": "stdout",
     "output_type": "stream",
     "text": [
      "Process-1 squared: 0\n",
      "Process-1 squared: 1\n",
      "Process-2 squared: 0Process-1 squared: 4\n",
      "\n",
      "Process-1 squared: 9Process-2 squared: 1\n",
      "\n",
      "Process-1 squared: 16Process-2 squared: 4\n",
      "\n"
     ]
    },
    {
     "name": "stdout",
     "output_type": "stream",
     "text": [
      "Process-2 squared: 9\n",
      "Process-2 squared: 16\n",
      "Multiprocessing example complete.\n"
     ]
    }
   ],
   "source": [
    "from multiprocessing import Process, current_process\n",
    "\n",
    "def square_numbers():\n",
    "    for i in range(5):\n",
    "        print(f\"{current_process().name} squared: {i*i}\")\n",
    "\n",
    "if __name__ == \"__main__\":\n",
    "    p1 = Process(target=square_numbers, name=\"Process-1\")\n",
    "    p2 = Process(target=square_numbers, name=\"Process-2\")\n",
    "    p1.start()\n",
    "    p2.start()\n",
    "    p1.join()\n",
    "    p2.join()\n",
    "    print(\"Multiprocessing example complete.\")"
   ]
  },
  {
   "cell_type": "markdown",
   "id": "167a20f5",
   "metadata": {},
   "source": [
    "## 4. AsyncIO (Asynchronous Programming)\n",
    "\n",
    "AsyncIO is a library to write concurrent code using the async/await syntax. It is ideal for I/O-bound and high-level structured network code."
   ]
  },
  {
   "cell_type": "code",
   "execution_count": 3,
   "id": "60e7aefe",
   "metadata": {},
   "outputs": [
    {
     "name": "stdout",
     "output_type": "stream",
     "text": [
      "Task A started\n",
      "Task B started\n",
      "Task C started\n",
      "Task A finished after 1 seconds\n",
      "Task C finished after 1 seconds\n",
      "Task B finished after 2 seconds\n"
     ]
    }
   ],
   "source": [
    "import asyncio\n",
    "\n",
    "async def async_task(name, delay):\n",
    "    print(f\"Task {name} started\")\n",
    "    await asyncio.sleep(delay)\n",
    "    print(f\"Task {name} finished after {delay} seconds\")\n",
    "\n",
    "async def main():\n",
    "    await asyncio.gather(\n",
    "        async_task(\"A\", 1),\n",
    "        async_task(\"B\", 2),\n",
    "        async_task(\"C\", 1)\n",
    "    )\n",
    "\n",
    "await main()"
   ]
  },
  {
   "cell_type": "markdown",
   "id": "d9c04d08",
   "metadata": {},
   "source": [
    "## 5. When to Use Each Approach\n",
    "\n",
    "- **Threading:** Use for I/O-bound tasks (e.g., web requests, file I/O).\n",
    "- **Multiprocessing:** Use for CPU-bound tasks (e.g., data processing, computation).\n",
    "- **AsyncIO:** Use for high-level I/O-bound and network code, especially when you need to handle many connections efficiently."
   ]
  },
  {
   "cell_type": "markdown",
   "id": "12957db2",
   "metadata": {},
   "source": [
    "## 6. Best Practices\n",
    "- Avoid shared state in multiprocessing; use queues or pipes for communication.\n",
    "- Use locks or other synchronization primitives to avoid race conditions in threading.\n",
    "- Prefer async for scalable I/O-bound applications.\n",
    "- Profile your code to choose the right concurrency model."
   ]
  },
  {
   "cell_type": "markdown",
   "id": "710525b0",
   "metadata": {},
   "source": [
    "## 2.1 ThreadPoolExecutor with concurrent.futures\n",
    "\n",
    "The `concurrent.futures.ThreadPoolExecutor` provides a high-level interface for asynchronously executing callables using threads. It is often easier and safer to use than manually managing threads."
   ]
  },
  {
   "cell_type": "code",
   "execution_count": 4,
   "id": "0bb44a2d",
   "metadata": {},
   "outputs": [
    {
     "name": "stdout",
     "output_type": "stream",
     "text": [
      "Task T1 started\n",
      "Task T2 started\n",
      "Task T3 started\n",
      "Task T1 finished after 1 seconds\n",
      "Result: T1\n",
      "Task T2 finished after 2 seconds\n",
      "Result: T2\n",
      "Task T3 finished after 3 seconds\n",
      "Result: T3\n"
     ]
    }
   ],
   "source": [
    "from concurrent.futures import ThreadPoolExecutor, as_completed\n",
    "\n",
    "def task(name, delay):\n",
    "    print(f\"Task {name} started\")\n",
    "    time.sleep(delay)\n",
    "    print(f\"Task {name} finished after {delay} seconds\")\n",
    "    return name\n",
    "\n",
    "with ThreadPoolExecutor(max_workers=3) as executor:\n",
    "    futures = [executor.submit(task, f\"T{i}\", i) for i in range(1, 4)]\n",
    "    for future in as_completed(futures):\n",
    "        result = future.result()\n",
    "        print(f\"Result: {result}\")"
   ]
  },
  {
   "cell_type": "markdown",
   "id": "09f569db",
   "metadata": {},
   "source": [
    "**When to use ThreadPoolExecutor:**\n",
    "- When you want to run many I/O-bound tasks concurrently with a simple interface.\n",
    "- It manages thread creation, scheduling, and joining for you."
   ]
  },
  {
   "cell_type": "markdown",
   "id": "5ed7007d",
   "metadata": {},
   "source": [
    "## 2.2 ProcessPoolExecutor with concurrent.futures\n",
    "\n",
    "The `concurrent.futures.ProcessPoolExecutor` provides a high-level interface for parallel execution using separate processes. It is ideal for CPU-bound tasks and avoids the Global Interpreter Lock (GIL)."
   ]
  },
  {
   "cell_type": "code",
   "execution_count": 5,
   "id": "ba55d380",
   "metadata": {},
   "outputs": [
    {
     "name": "stdout",
     "output_type": "stream",
     "text": [
      "Result: 4\n",
      "Result: 1\n",
      "Result: 9\n",
      "Result: 16\n",
      "Result: 25\n"
     ]
    }
   ],
   "source": [
    "from concurrent.futures import ProcessPoolExecutor, as_completed\n",
    "\n",
    "def compute_square(n):\n",
    "    return n * n\n",
    "\n",
    "with ProcessPoolExecutor(max_workers=2) as executor:\n",
    "    numbers = [1, 2, 3, 4, 5]\n",
    "    futures = [executor.submit(compute_square, num) for num in numbers]\n",
    "    for future in as_completed(futures):\n",
    "        print(f\"Result: {future.result()}\")"
   ]
  },
  {
   "cell_type": "markdown",
   "id": "a010b2a4",
   "metadata": {},
   "source": [
    "**When to use ProcessPoolExecutor:**\n",
    "- For CPU-bound tasks that benefit from true parallelism.\n",
    "- When you want a simple interface for running functions in separate processes."
   ]
  }
 ],
 "metadata": {
  "kernelspec": {
   "display_name": ".venv",
   "language": "python",
   "name": "python3"
  },
  "language_info": {
   "codemirror_mode": {
    "name": "ipython",
    "version": 3
   },
   "file_extension": ".py",
   "mimetype": "text/x-python",
   "name": "python",
   "nbconvert_exporter": "python",
   "pygments_lexer": "ipython3",
   "version": "3.13.3"
  }
 },
 "nbformat": 4,
 "nbformat_minor": 5
}
