{
 "cells": [
  {
   "cell_type": "markdown",
   "id": "ba813b4e",
   "metadata": {},
   "source": [
    "# Object-Oriented Programming (OOP) in Python\n",
    "\n",
    "This notebook is a sequel to the Python Basics tutorial. Here, you'll learn about Object-Oriented Programming (OOP) concepts in Python, including classes, objects, inheritance, polymorphism, encapsulation, and more. Each section contains explanations and code examples to help you understand and practice OOP in Python."
   ]
  },
  {
   "cell_type": "markdown",
   "id": "a808de30",
   "metadata": {},
   "source": [
    "# Table of Contents\n",
    "1. [Introduction to OOP](#introduction-to-oop)\n",
    "2. [Classes and Objects](#classes-and-objects)\n",
    "3. [Inheritance](#inheritance)\n",
    "4. [Encapsulation](#encapsulation)\n",
    "5. [Polymorphism](#polymorphism)\n",
    "6. [Abstract Classes](#abstract-classes)\n",
    "7. [File Handling](#file-handling)\n",
    "8. [Exceptions](#exceptions)\n",
    "9. [Comprehensions](#comprehensions)\n",
    "10. [Generators](#generators)\n",
    "11. [Decorators](#decorators)\n",
    "12. [Context Managers](#context-managers)"
   ]
  },
  {
   "cell_type": "markdown",
   "id": "52028cee",
   "metadata": {},
   "source": [
    "# Introduction to OOP\n",
    "Object-Oriented Programming (OOP) is a programming paradigm based on the concept of objects, which can contain data and code: data in the form of attributes, and code in the form of methods. OOP helps organize code, promote reuse, and model real-world entities."
   ]
  },
  {
   "cell_type": "markdown",
   "id": "d701156c",
   "metadata": {},
   "source": [
    "## Classes and Objects\n",
    "A class is a blueprint for creating objects. An object is an instance of a class. Classes define methods (functions) and attributes (variables) that describe the behavior and state of the objects.\n",
    "\n",
    "**Real-world analogy:**\n",
    "- Think of a class as a blueprint for a house. The blueprint itself is not a house, but you can use it to build many houses (objects). Each house built from the blueprint can have its own color, size, and features, but they all share the same structure defined by the blueprint.\n",
    "\n",
    "**Key Points:**\n",
    "- A class defines the structure and behavior (attributes and methods).\n",
    "- An object is a specific instance of a class, with its own data.\n",
    "- You can create multiple objects from the same class.\n",
    "\n",
    "The following example demonstrates how to define a class and create an object from it."
   ]
  },
  {
   "cell_type": "markdown",
   "id": "c6b8a44b",
   "metadata": {},
   "source": [
    "### Example: Defining and Using a Class\n",
    "Below is a simple example of a class and how to create and use an object from it.\n",
    "\n",
    "**What this code does:**\n",
    "- Defines a `Vehicle` class with attributes and methods.\n",
    "- Creates an object `volvo` from the `Vehicle` class.\n",
    "- Demonstrates how to call methods and access the type of the object.\n",
    "\n",
    "**Observe:**\n",
    "- The constructor (`__init__`) initializes the object.\n",
    "- Methods like `start` and `stop` perform actions.\n",
    "- The `__del__` method is called when the object is destroyed."
   ]
  },
  {
   "cell_type": "code",
   "execution_count": 2,
   "id": "fb1f3d86",
   "metadata": {},
   "outputs": [
    {
     "name": "stdout",
     "output_type": "stream",
     "text": [
      "Volvo truck created\n",
      "Volvo truck engine started\n",
      "Volvo truck engine stopped\n",
      "<class '__main__.Vehicle'>\n"
     ]
    }
   ],
   "source": [
    "class Vehicle:\n",
    "    \"\"\"\n",
    "    A base class representing any vehicle.\n",
    "    \"\"\"\n",
    "    def __init__(self, vehicle_type=\"vehicle\", brand=\"Generic\"):\n",
    "        self.vehicle_type = vehicle_type\n",
    "        self.brand = brand\n",
    "        print(f\"{self.brand} {self.vehicle_type} created\")\n",
    "\n",
    "    def start(self):\n",
    "        print(f\"{self.brand} {self.vehicle_type} engine started\")\n",
    "\n",
    "    def stop(self):\n",
    "        print(f\"{self.brand} {self.vehicle_type} engine stopped\")\n",
    "\n",
    "    def __del__(self):\n",
    "        print(f\"{self.brand} {self.vehicle_type} reference destroyed\")\n",
    "\n",
    "volvo = Vehicle(\"truck\", \"Volvo\")\n",
    "volvo.start()\n",
    "volvo.stop()\n",
    "print(type(volvo))"
   ]
  },
  {
   "cell_type": "code",
   "execution_count": 3,
   "id": "ceb39deb",
   "metadata": {},
   "outputs": [
    {
     "name": "stdout",
     "output_type": "stream",
     "text": [
      "<class 'utils.tester.Test'>\n"
     ]
    }
   ],
   "source": [
    "from utils.tester import Test\n",
    "test = Test(\"ravi\")\n",
    "test.greet()\n",
    "print(type(test))"
   ]
  },
  {
   "cell_type": "markdown",
   "id": "d3362f30",
   "metadata": {},
   "source": [
    "# Inheritance\n",
    "Inheritance allows a class (child class) to inherit attributes and methods from another class (parent class). This promotes code reuse and establishes a relationship between classes.\n",
    "\n",
    "**Real-world analogy:**\n",
    "- Imagine a family tree: children inherit traits from their parents. Similarly, a child class inherits features from its parent class.\n",
    "\n",
    "### Types of Inheritance\n",
    "| Inheritance Type | Description                         | Example                        |\n",
    "| ---------------- | ----------------------------------- | ------------------------------ |\n",
    "| Single           | One subclass, one superclass        | `class B(A):`                  |\n",
    "| Multiple         | One subclass, multiple superclasses | `class C(A, B):`               |\n",
    "| Multilevel       | Chain of inheritance                | `C -> B -> A`                  |\n",
    "| Hierarchical     | Multiple subclasses from one parent | `B(A), C(A)`                   |\n",
    "| Hybrid           | Combination of above                | Mix of multiple and multilevel |\n",
    "\n",
    "**Key Points:**\n",
    "- Inheritance helps avoid code duplication.\n",
    "- Child classes can override or extend parent class methods.\n",
    "- Python supports multiple types of inheritance.\n",
    "\n"
   ]
  },
  {
   "cell_type": "markdown",
   "id": "136cefb4",
   "metadata": {},
   "source": [
    "### Single Inheritance\n",
    "\n",
    "Single inheritance is when a class inherits from one parent class.\n",
    "\n",
    "**Example analogy:**\n",
    "- A `Car` is a type of `Vehicle`. The `Car` class inherits features from the `Vehicle` class and can add its own features.\n",
    "\n",
    "![image.png](../public/inheritance/single.png)\n",
    "\n",
    "**What to observe in the code:**\n",
    "- The `Car` class uses `super()` to call the parent class constructor.\n",
    "- The `Car` class adds its own method `honk`."
   ]
  },
  {
   "cell_type": "code",
   "execution_count": 4,
   "id": "9472b2d9",
   "metadata": {},
   "outputs": [
    {
     "name": "stdout",
     "output_type": "stream",
     "text": [
      "Toyota car created\n",
      "Toyota car engine started\n",
      "Toyota car says 'Beep beep!'\n",
      "Toyota car engine stopped\n",
      "<class '__main__.Car'>\n"
     ]
    }
   ],
   "source": [
    "class Car(Vehicle):\n",
    "    \"\"\"\n",
    "    A class representing a car, inheriting from Vehicle.\n",
    "    \"\"\"\n",
    "    def __init__(self, brand=\"Honda\", price=20000):\n",
    "        super().__init__(vehicle_type=\"car\", brand=brand)\n",
    "        self.price = price\n",
    "\n",
    "    def honk(self):\n",
    "        print(f\"{self.brand} car says 'Beep beep!'\")\n",
    "\n",
    "\n",
    "toyota = Car(\"Toyota\", 25000)\n",
    "toyota.start()\n",
    "toyota.honk()\n",
    "toyota.stop()\n",
    "print(type(toyota))"
   ]
  },
  {
   "cell_type": "markdown",
   "id": "4487bdbd",
   "metadata": {},
   "source": [
    "### Multilevel Inheritance\n",
    "\n",
    "Multilevel inheritance is when a class is derived from a class, which is also derived from another class (a chain).\n",
    "\n",
    "**Example analogy:**\n",
    "- `ElectricCar` inherits from `Car`, which inherits from `Vehicle`. This forms a chain: `ElectricCar` → `Car` → `Vehicle`.\n",
    "\n",
    "![image.png](../public/inheritance/multilevel.png)\n",
    "\n",
    "**What to observe in the code:**\n",
    "- The `ElectricCar` class extends the `Car` class and adds new methods like `charge`.\n",
    "- The `start` method is overridden to provide a different implementation for electric cars."
   ]
  },
  {
   "cell_type": "code",
   "execution_count": 5,
   "id": "e5125ca6",
   "metadata": {},
   "outputs": [
    {
     "name": "stdout",
     "output_type": "stream",
     "text": [
      "Tesla car created\n",
      "Tesla electric motor started silently\n",
      "Tesla is charging...\n",
      "Tesla car says 'Beep beep!'\n",
      "Tesla car engine stopped\n",
      "Car price: 35000\n"
     ]
    }
   ],
   "source": [
    "class ElectricCar(Car):\n",
    "    \"\"\"\n",
    "    A class representing an electric car, inheriting from Car.\n",
    "    \"\"\"\n",
    "    def __init__(self, brand=\"Tesla\", price=35000):\n",
    "        self.vehicle_type = \"electric car\"\n",
    "        super().__init__(brand=brand, price=price)\n",
    "\n",
    "    def charge(self):\n",
    "        print(f\"{self.brand} is charging...\")\n",
    "\n",
    "    def start(self):\n",
    "        print(f\"{self.brand} electric motor started silently\")\n",
    "\n",
    "ev = ElectricCar(\"Tesla\", 35000)\n",
    "ev.start()\n",
    "ev.charge()\n",
    "ev.honk()\n",
    "ev.stop()\n",
    "print(f\"Car price: {ev.price}\")"
   ]
  },
  {
   "cell_type": "markdown",
   "id": "389745af",
   "metadata": {},
   "source": [
    "### Multiple Inheritance\n",
    "\n",
    "Multiple inheritance is when a class inherits from more than one parent class.\n",
    "\n",
    "**Example analogy:**\n",
    "- A `TeslaSmart` car is both an `ElectricCar` and has `AutoPilot` features. It inherits from both classes.\n",
    "\n",
    "![image.png](../public/inheritance/hybrid.png)\n",
    "\n",
    "**What to observe in the code:**\n",
    "- The `TeslaSmart` class inherits from both `ElectricCar` and `AutoPilot`.\n",
    "- It can use methods from both parent classes."
   ]
  },
  {
   "cell_type": "code",
   "execution_count": 6,
   "id": "d78b834e",
   "metadata": {},
   "outputs": [
    {
     "name": "stdout",
     "output_type": "stream",
     "text": [
      "Tesla car created\n",
      "Tesla electric motor started silently\n",
      "Tesla car says 'Beep beep!'\n",
      "Autopilot enabled\n",
      "Autopilot is active\n"
     ]
    }
   ],
   "source": [
    "class AutoPilot:\n",
    "    \"\"\"\n",
    "    A mixin class for adding autopilot functionality.\n",
    "    \"\"\"\n",
    "    def __init__(self):\n",
    "        self.autopilot_enabled = False\n",
    "\n",
    "    def toggle_autopilot(self):\n",
    "        self.autopilot_enabled = not self.autopilot_enabled\n",
    "        if self.autopilot_enabled:\n",
    "            self.enable_autopilot()\n",
    "        else:\n",
    "            self.disable_autopilot()\n",
    "    def enable_autopilot(self):\n",
    "        self.autopilot_enabled = True\n",
    "        print(\"Autopilot enabled\")\n",
    "        \n",
    "    def disable_autopilot(self):\n",
    "        self.autopilot_enabled = False\n",
    "        print(\"Autopilot disabled\")\n",
    "\n",
    "    def autopilot_status(self):\n",
    "        if self.autopilot_enabled:\n",
    "            print(\"Autopilot is active\")\n",
    "        else:\n",
    "            print(\"Autopilot is inactive\")\n",
    "\n",
    "class TeslaSmart(ElectricCar, AutoPilot):\n",
    "    def __init__(self, brand=\"Tesla\"):\n",
    "        ElectricCar.__init__(self, brand)\n",
    "        AutoPilot.__init__(self)\n",
    "\n",
    "tesla = TeslaSmart(\"Tesla\")\n",
    "tesla.start()\n",
    "tesla.honk()\n",
    "tesla.toggle_autopilot()\n",
    "tesla.autopilot_status()"
   ]
  },
  {
   "cell_type": "markdown",
   "id": "c069c3e4",
   "metadata": {},
   "source": [
    "### Hierarchical Inheritance\n",
    "\n",
    "Hierarchical inheritance is when multiple classes inherit from the same parent class.\n",
    "\n",
    "**Example analogy:**\n",
    "- Both `Car` and `Bus` inherit from `Vehicle`. They are siblings in the inheritance tree.\n",
    "\n",
    "![image.png](../public/inheritance/hierarchical.png)\n",
    "\n",
    "**What to observe in the code:**\n",
    "- The `Bus` class inherits from `Vehicle` and adds its own methods and attributes."
   ]
  },
  {
   "cell_type": "code",
   "execution_count": 7,
   "id": "7bf84d33",
   "metadata": {},
   "outputs": [
    {
     "name": "stdout",
     "output_type": "stream",
     "text": [
      "Mercedes bus created\n",
      "Mercedes bus engine started with a roar\n",
      "30 passengers boarded the bus.\n",
      "Mercedes bus says 'Honk honk!'\n",
      "Mercedes bus engine stopped with a thud\n",
      "Mercedes bus with capacity 50\n",
      "<class '__main__.Bus'>\n"
     ]
    }
   ],
   "source": [
    "class Bus(Vehicle):\n",
    "    \"\"\"\n",
    "    A class representing a bus, inheriting from Vehicle.\n",
    "    \"\"\"\n",
    "    def __init__(self, brand=\"Mercedes\", capacity=50):\n",
    "        super().__init__(vehicle_type=\"bus\", brand=brand)\n",
    "        self.capacity = capacity\n",
    "\n",
    "    def board_passengers(self, num_passengers):\n",
    "        if num_passengers <= self.capacity:\n",
    "            print(f\"{num_passengers} passengers boarded the bus.\")\n",
    "        else:\n",
    "            print(f\"Cannot board {num_passengers} passengers. Capacity is {self.capacity}.\")\n",
    "    def honk(self):\n",
    "        print(f\"{self.brand} bus says 'Honk honk!'\")\n",
    "    def start(self):\n",
    "        print(f\"{self.brand} bus engine started with a roar\")\n",
    "    def stop(self):\n",
    "        print(f\"{self.brand} bus engine stopped with a thud\")\n",
    "    def __del__(self):\n",
    "        print(f\"{self.brand} bus reference destroyed\")\n",
    "    def __str__(self):\n",
    "        return f\"{self.brand} bus with capacity {self.capacity}\"\n",
    "    \n",
    "# Example usage\n",
    "mercedes = Bus(\"Mercedes\", 50)\n",
    "mercedes.start()\n",
    "mercedes.board_passengers(30)\n",
    "mercedes.honk()\n",
    "mercedes.stop()\n",
    "print(mercedes)\n",
    "print(type(mercedes))"
   ]
  },
  {
   "cell_type": "markdown",
   "id": "151b61b4",
   "metadata": {},
   "source": [
    "# Encapsulation\n",
    "Encapsulation is the bundling of data (attributes) and methods (functions) that operate on the data into a single unit, or class. It restricts direct access to some components and can prevent the accidental modification of data.\n",
    "\n",
    "**Real-world analogy:**\n",
    "- Think of a capsule: medicine is protected inside, and you can only access it in a controlled way. Similarly, a class can hide its internal data and only allow access through methods.\n",
    "\n",
    "Encapsulation is achieved through access modifiers:\n",
    "- **Public:** Accessible from outside the class, represented by no underscore.\n",
    "- **Protected:** Accessible only within the class and its subclasses, represented by a single underscore `_`.\n",
    "- **Private:** Accessible only within the class itself, represented by a double underscore `__`.\n",
    "- **Reserved:** You shouldn't use this naming for your own variables, represented by `__var__`.\n",
    "\n",
    "**Key Points:**\n",
    "- Encapsulation helps protect data from unintended modification.\n",
    "- Use getter and setter methods to control access to private data."
   ]
  },
  {
   "cell_type": "code",
   "execution_count": 1,
   "id": "d5b78173",
   "metadata": {},
   "outputs": [
    {
     "name": "stdout",
     "output_type": "stream",
     "text": [
      "2000\n",
      "4000\n",
      "4000\n"
     ]
    }
   ],
   "source": [
    "class BankAccount:\n",
    "    def __init__(self):\n",
    "        self.__balance = 1000\n",
    "\n",
    "    def get_balance(self):\n",
    "        return self.__balance\n",
    "    \n",
    "    def _set_balance(self, balance):\n",
    "        self.__balance = balance\n",
    "\n",
    "class SavingsAccount(BankAccount):\n",
    "    def __init__(self):\n",
    "        super().__init__()\n",
    "\n",
    "    def add_balance(self, balance):\n",
    "        self._set_balance(balance + self.get_balance())\n",
    "\n",
    "    def get_balance(self):\n",
    "        return super().get_balance()\n",
    "\n",
    "acc = SavingsAccount()\n",
    "# Accessing the balance using the public method \n",
    "acc.add_balance(1000)\n",
    "print(acc.get_balance())\n",
    "acc.add_balance(2000)\n",
    "\n",
    "print(acc.get_balance())\n",
    "print(acc._BankAccount__balance)  # ❌ Unsafe access"
   ]
  },
  {
   "cell_type": "markdown",
   "id": "92f43afd",
   "metadata": {},
   "source": [
    "# Abstraction\n",
    "Abstraction is the concept of hiding the complex implementation details and showing only the essential features of the object. It helps reduce complexity and increase efficiency.\n",
    "\n",
    "**Real-world analogy:**\n",
    "- When you drive a car, you use the steering wheel and pedals without knowing the details of how the engine works. The car abstracts away the complexity.\n",
    "\n",
    "Abstraction can be achieved using abstract classes and interfaces. An abstract class is a class that cannot be instantiated and can contain abstract methods (methods without implementation) and concrete methods (methods with implementation). Abstract classes are defined using the `abc` module in Python.\n",
    "\n",
    "**Key Points:**\n",
    "- Abstract classes provide a template for other classes.\n",
    "- Abstract methods must be implemented by subclasses."
   ]
  },
  {
   "cell_type": "code",
   "execution_count": 2,
   "id": "eb73b0fc",
   "metadata": {},
   "outputs": [
    {
     "name": "stdout",
     "output_type": "stream",
     "text": [
      "Training Neural Network model...\n",
      "Predicting using Neural Network model...\n",
      "Evaluating Neural Network model...\n"
     ]
    }
   ],
   "source": [
    "from abc import ABC, abstractmethod\n",
    "class AI(ABC):\n",
    "    @abstractmethod\n",
    "    def train(self):\n",
    "        pass\n",
    "    @abstractmethod\n",
    "    def predict(self):\n",
    "        pass\n",
    "\n",
    "\n",
    "class AIModel(AI):\n",
    "    def __init__(self, model_name):\n",
    "        self.model_name = model_name\n",
    "\n",
    "    def train(self):\n",
    "        print(f\"Training {self.model_name} model...\")\n",
    "\n",
    "    def predict(self):\n",
    "        print(f\"Predicting using {self.model_name} model...\")\n",
    "\n",
    "    def evaluate(self):\n",
    "        print(f\"Evaluating {self.model_name} model...\")\n",
    "\n",
    "model = AIModel(\"Neural Network\")\n",
    "model.train()\n",
    "model.predict()\n",
    "model.evaluate()"
   ]
  },
  {
   "cell_type": "markdown",
   "id": "9c7eb7d6",
   "metadata": {},
   "source": [
    "# Polymorphism\n",
    "Polymorphism allows objects of different classes to be treated as objects of a common superclass. It enables a single interface to represent different underlying forms (data types). \n",
    "\n",
    "**Real-world analogy:**\n",
    "- A remote control can operate different devices (TV, AC, music system) using the same set of buttons. Each device responds differently to the same button press.\n",
    "\n",
    "**Key Points:**\n",
    "- Polymorphism allows for flexible and reusable code.\n",
    "- The same method name can behave differently depending on the object.\n",
    "\n",
    "### Compile-time Polymorphism\n",
    "Compile-time polymorphism is achieved through method overloading, where multiple methods have the same name but different parameters. Python does not support method overloading directly, but you can achieve similar behavior using default arguments or variable-length arguments."
   ]
  },
  {
   "cell_type": "code",
   "execution_count": 3,
   "id": "95aff6e1",
   "metadata": {},
   "outputs": [
    {
     "name": "stdout",
     "output_type": "stream",
     "text": [
      "3\n",
      "6\n",
      "10\n"
     ]
    }
   ],
   "source": [
    "class CompileTimePolymorphism:\n",
    "    def add(self, a, b):\n",
    "        return a + b\n",
    "\n",
    "    def add(self, a, b, c):\n",
    "        return a + b + c\n",
    "\n",
    "    def add(self, *args):\n",
    "        return sum(args)\n",
    "    \n",
    "# Example usage\n",
    "polymorphism = CompileTimePolymorphism()\n",
    "print(polymorphism.add(1, 2))\n",
    "print(polymorphism.add(1, 2, 3))\n",
    "print(polymorphism.add(1, 2, 3, 4))"
   ]
  },
  {
   "cell_type": "markdown",
   "id": "13280423",
   "metadata": {},
   "source": [
    "### Runtime Polymorphism\n",
    "Runtime polymorphism is achieved through method overriding, where a subclass provides a specific implementation of a method that is already defined in its superclass. This allows the subclass to modify or extend the behavior of the inherited method.\n",
    "\n",
    "**What to observe in the code:**\n",
    "- The `sound` method is defined in the `Animal` class and overridden in `Dog` and `Cat`.\n",
    "- When iterating over a list of animals, each object responds with its own implementation of `sound`.\n",
    "- This demonstrates how the same method call can produce different results depending on the object's class."
   ]
  },
  {
   "cell_type": "code",
   "execution_count": 20,
   "id": "f2178715",
   "metadata": {},
   "outputs": [
    {
     "name": "stdout",
     "output_type": "stream",
     "text": [
      "Bark\n",
      "Meow\n",
      "Some generic sound\n"
     ]
    }
   ],
   "source": [
    "# run-time polymorphism\n",
    "class Animal:\n",
    "    def sound(self):\n",
    "        return \"Some generic sound\"\n",
    "\n",
    "\n",
    "class Dog(Animal):\n",
    "    def sound(self):\n",
    "        return \"Bark\"\n",
    "\n",
    "\n",
    "class Cat(Animal):\n",
    "    def sound(self):\n",
    "        return \"Meow\"\n",
    "\n",
    "\n",
    "# Polymorphic behavior\n",
    "animals = [Dog(), Cat(), Animal()]\n",
    "for animal in animals:\n",
    "    print(animal.sound())"
   ]
  },
  {
   "cell_type": "markdown",
   "id": "95ff4c44",
   "metadata": {},
   "source": [
    "---\n",
    "\n",
    "Congratulations! You've completed the OOP section of this tutorial. You should now have a solid understanding of the key concepts of Object-Oriented Programming in Python, including classes, objects, inheritance, encapsulation, polymorphism, and abstraction."
   ]
  }
 ],
 "metadata": {
  "kernelspec": {
   "display_name": ".venv",
   "language": "python",
   "name": "python3"
  },
  "language_info": {
   "codemirror_mode": {
    "name": "ipython",
    "version": 3
   },
   "file_extension": ".py",
   "mimetype": "text/x-python",
   "name": "python",
   "nbconvert_exporter": "python",
   "pygments_lexer": "ipython3",
   "version": "3.13.3"
  }
 },
 "nbformat": 4,
 "nbformat_minor": 5
}
