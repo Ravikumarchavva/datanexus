{
 "cells": [
  {
   "cell_type": "markdown",
   "id": "d3dfbbf0",
   "metadata": {},
   "source": [
    "8. [OOP](#oop)\n",
    "    - [8.1 Classes](#classes)\n",
    "    - [8.2 Inheritance](#inheritance)\n",
    "    - [8.3 Polymorphism](#polymorphism)\n",
    "    - [8.4 Encapsulation](#encapsulation)\n",
    "    - [8.5 Abstract Classes](#abstract-classes)\n",
    "9. [File Handling](#file-handling)\n",
    "10. [Exceptions](#exceptions)\n",
    "\n",
    "11. [Comprehensions](#comprehensions)\n",
    "12. [Generators](#generators)\n",
    "13. [Decorators](#decorators)\n",
    "14. [Context Managers](#context-managers)"
   ]
  },
  {
   "cell_type": "markdown",
   "id": "2fe7dbdc",
   "metadata": {},
   "source": [
    "## OOP"
   ]
  },
  {
   "cell_type": "code",
   "execution_count": null,
   "id": "fb1f3d86",
   "metadata": {},
   "outputs": [
    {
     "name": "stdout",
     "output_type": "stream",
     "text": [
      "Car started\n",
      "Car stopped\n",
      "<class '__main__.Car'>\n"
     ]
    }
   ],
   "source": [
    "class Car:\n",
    "    def start(self):\n",
    "        print(\"Car started\")\n",
    "\n",
    "    def stop(self):\n",
    "        print(\"Car stopped\")\n",
    "\n",
    "car  = Car()\n",
    "car.start()\n",
    "car.stop()\n",
    "print(type(car))"
   ]
  },
  {
   "cell_type": "code",
   "execution_count": null,
   "id": "ceb39deb",
   "metadata": {},
   "outputs": [
    {
     "name": "stdout",
     "output_type": "stream",
     "text": [
      "<class 'tester.Test'>\n"
     ]
    }
   ],
   "source": [
    "from tester import Test\n",
    "test = Test(\"ravi\")\n",
    "test.greet()\n",
    "print(type(test))"
   ]
  },
  {
   "cell_type": "markdown",
   "id": "d3362f30",
   "metadata": {},
   "source": [
    "### Inheritance"
   ]
  },
  {
   "cell_type": "code",
   "execution_count": null,
   "id": "1f57da5f",
   "metadata": {},
   "outputs": [
    {
     "name": "stdout",
     "output_type": "stream",
     "text": [
      "Some sound\n",
      "Woof!\n",
      "Woof!\n",
      "Some sound\n"
     ]
    }
   ],
   "source": [
    "class Animal:\n",
    "    def speak(self):\n",
    "        print(\"Some sound\")\n",
    "\n",
    "class Dog(Animal):\n",
    "    def bark(self):\n",
    "        print(\"Woof!\")\n",
    "\n",
    "class Puppy(Dog): # Multi level ingeritence\n",
    "    def bark(self):\n",
    "        return super().bark()\n",
    "\n",
    "dog = Dog()\n",
    "dog.speak()  # Inherited\n",
    "dog.bark()\n",
    "\n",
    "puppy = Puppy()\n",
    "puppy.bark()\n",
    "puppy.speak()\n",
    "\n",
    "# multiple inheritance\n",
    "class Tiger(Animal):\n",
    "  def roar(self):\n",
    "    print(\"Roar!\")\n",
    "\n",
    "class Lion(Animal):\n",
    "  def roar(self):\n",
    "    print(\"Roar!\")\n",
    "\n",
    "class Liger(Tiger, Lion):\n",
    "  def roar(self):\n",
    "    super().roar()\n",
    "    print(\"Roar!\")"
   ]
  },
  {
   "cell_type": "code",
   "execution_count": null,
   "id": "268946e5",
   "metadata": {},
   "outputs": [
    {
     "name": "stdout",
     "output_type": "stream",
     "text": [
      "Barking...\n"
     ]
    }
   ],
   "source": [
    "class Animal:\n",
    "    def speak(self):\n",
    "        print(\"Some sound\")\n",
    "\n",
    "class Dog(Animal):\n",
    "    def bark(self):\n",
    "        print(\"Woof!\")\n",
    "\n",
    "    def speak(self):\n",
    "        print(\"Barking...\")\n",
    "\n",
    "dog = Dog()\n",
    "dog.speak()  # Inherited\n"
   ]
  },
  {
   "cell_type": "code",
   "execution_count": null,
   "id": "fc23f889",
   "metadata": {},
   "outputs": [
    {
     "name": "stdout",
     "output_type": "stream",
     "text": [
      "Woof!\n",
      "Meow!\n"
     ]
    }
   ],
   "source": [
    "class Dog:\n",
    "    def speak(self):\n",
    "        print(\"Woof!\")\n",
    "\n",
    "class Cat:\n",
    "    def speak(self):\n",
    "        print(\"Meow!\")\n",
    "\n",
    "def make_sound(animal):\n",
    "    animal.speak()\n",
    "\n",
    "make_sound(Dog())\n",
    "make_sound(Cat())\n"
   ]
  },
  {
   "cell_type": "code",
   "execution_count": null,
   "id": "e591bd36",
   "metadata": {},
   "outputs": [
    {
     "name": "stdout",
     "output_type": "stream",
     "text": [
      "2000\n",
      "3000\n",
      "1000\n"
     ]
    },
    {
     "ename": "AttributeError",
     "evalue": "'BankAccount' object has no attribute '__balance'",
     "output_type": "error",
     "traceback": [
      "\u001b[0;31m---------------------------------------------------------------------------\u001b[0m\n",
      "\u001b[0;31mAttributeError\u001b[0m                            Traceback (most recent call last)\n",
      "\u001b[0;32m<ipython-input-9-13bc8e544b4a>\u001b[0m in \u001b[0;36m<cell line: 0>\u001b[0;34m()\u001b[0m\n",
      "\u001b[1;32m     26\u001b[0m \u001b[0macc\u001b[0m \u001b[0;34m=\u001b[0m \u001b[0mBankAccount\u001b[0m\u001b[0;34m(\u001b[0m\u001b[0;34m)\u001b[0m\u001b[0;34m\u001b[0m\u001b[0;34m\u001b[0m\u001b[0m\n",
      "\u001b[1;32m     27\u001b[0m \u001b[0mprint\u001b[0m\u001b[0;34m(\u001b[0m\u001b[0macc\u001b[0m\u001b[0;34m.\u001b[0m\u001b[0mget_balance\u001b[0m\u001b[0;34m(\u001b[0m\u001b[0;34m)\u001b[0m\u001b[0;34m)\u001b[0m  \u001b[0;31m# ✅ Safe access\u001b[0m\u001b[0;34m\u001b[0m\u001b[0;34m\u001b[0m\u001b[0m\n",
      "\u001b[0;32m---> 28\u001b[0;31m \u001b[0mprint\u001b[0m\u001b[0;34m(\u001b[0m\u001b[0macc\u001b[0m\u001b[0;34m.\u001b[0m\u001b[0m__balance\u001b[0m\u001b[0;34m)\u001b[0m    \u001b[0;31m# ❌ Error: encapsulated\u001b[0m\u001b[0;34m\u001b[0m\u001b[0;34m\u001b[0m\u001b[0m\n",
      "\u001b[0m\n",
      "\u001b[0;31mAttributeError\u001b[0m: 'BankAccount' object has no attribute '__balance'"
     ]
    }
   ],
   "source": [
    "class BankAccount:\n",
    "    def __init__(self):\n",
    "        self.__balance = 1000\n",
    "\n",
    "    def get_balance(self):\n",
    "        return self.__balance\n",
    "    def _set_balance(self, balance):\n",
    "        self.__balance = balance\n",
    "\n",
    "class SavingsAccount(BankAccount):\n",
    "    def __init__(self):\n",
    "        super().__init__()\n",
    "\n",
    "    def add_balance(self, balance):\n",
    "        self._set_balance(balance + self.get_balance())\n",
    "\n",
    "    def get_balance(self):\n",
    "        return super().get_balance()\n",
    "\n",
    "acc = SavingsAccount()\n",
    "acc.add_balance(1000)\n",
    "print(acc.get_balance())\n",
    "acc.add_balance(1000)\n",
    "print(acc.get_balance())\n",
    "\n",
    "acc = BankAccount()\n",
    "print(acc.get_balance())  # ✅ Safe access\n",
    "print(acc.__balance)    # ❌ Error: encapsulated"
   ]
  }
 ],
 "metadata": {
  "language_info": {
   "name": "python"
  }
 },
 "nbformat": 4,
 "nbformat_minor": 5
}
