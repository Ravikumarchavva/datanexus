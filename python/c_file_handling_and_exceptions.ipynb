{
 "cells": [
  {
   "cell_type": "markdown",
   "id": "03320043",
   "metadata": {},
   "source": [
    "# File Handling and Exception Handling in Python\n",
    "\n",
    "In this section, you'll learn how to work with files (reading, writing, and appending) and how to handle exceptions in Python. These are essential skills for robust and reliable programming."
   ]
  },
  {
   "cell_type": "markdown",
   "id": "129c4a3d",
   "metadata": {},
   "source": [
    "## Table of Contents\n",
    "1. I[ntroduction to File Handling](#introduction-to-file-handling)\n",
    "   - 1.1 File Modes\n",
    "   - 1.2 File Paths\n",
    "   - 1.3 Opening and Closing Files\n",
    "2. [Reading Files](#reading-files)\n",
    "   - 2.1 Reading Text Files\n",
    "   - 2.2 Reading Binary Files\n",
    "3. [Writing and Appending to Files](#writing-and-appending-to-files)\n",
    "   - 3.1 Writing Text Files\n",
    "   - 3.2 Appending to Files\n",
    "4. [Working with Context Managers](#working-with-context-managers)\n",
    "   - 4.1 Using `with` Statement\n",
    "   - 4.2 Benefits of Context Managers\n",
    "5. [Exception Handling](#exception-handling)\n",
    "   - 5.1 Try and Except Blocks\n",
    "   - 5.2 Finally Block\n",
    "   - 5.3 Raising Exceptions\n",
    "   - 5.4 Catching Multiple Exceptions\n",
    "   - 5.5 Using `else` with `try`\n",
    "6. [Common Exceptions](#common-exceptions)\n",
    "   - 6.1 FileNotFoundError\n",
    "   - 6.2 ValueError\n",
    "   - 6.3 IndexError\n",
    "   - 6.4 KeyError\n",
    "   - 6.5 TypeError\n",
    "7. [Custom Exceptions](#custom-exceptions)\n",
    "   - 7.1 Creating Custom Exceptions\n",
    "   - 7.2 Using Custom Exceptions\n",
    "   - 7.3 Raising Custom Exceptions\n",
    "   - 7.4 Catching Custom Exceptions\n",
    "   - 7.5 Best Practices for Custom Exceptions\n",
    "   - 7.6 Example of Custom Exception\n",
    "   - 7.7 Custom Exception Hierarchy\n",
    "   - 7.8 Custom Exception with Additional Attributes\n",
    "   - 7.9 Custom Exception with String Representation\n",
    "   - 7.10 Custom Exception with Logging\n",
    "   - 7.11 Custom Exception with Context Manager\n",
    "   - 7.12 Custom Exception with Decorator\n",
    "   - 7.13 Custom Exception with Unit Tests\n",
    "8. [Best Practices](#best-practices)\n",
    "   - 8.1 File Handling Best Practices\n",
    "   - 8.2 Exception Handling Best Practices\n",
    "   - 8.3 General Best Practices\n",
    "   - 8.4 Performance Considerations\n",
    "   - 8.5 Security Considerations\n",
    "   - 8.6 Readability and Maintainability"
   ]
  },
  {
   "cell_type": "markdown",
   "id": "1ef21af8",
   "metadata": {},
   "source": [
    "## 1. Introduction to File Handling\n",
    "File handling allows you to store data permanently in files and retrieve it when needed. Python provides built-in functions to create, read, write, and delete files.\n",
    "\n",
    "**Key Points:**\n",
    "- Files can be text or binary.\n",
    "- Always close files after use, or use context managers (`with` statement) to handle files safely."
   ]
  },
  {
   "cell_type": "code",
   "execution_count": 8,
   "id": "ff343298",
   "metadata": {},
   "outputs": [],
   "source": [
    "# Opening a file (creates the file if it doesn't exist)\n",
    "f = open('sample.txt', 'w')\n",
    "f.write('Hello, world!')\n",
    "f.close()"
   ]
  },
  {
   "cell_type": "markdown",
   "id": "4a9bdfae",
   "metadata": {},
   "source": [
    "## 2. Reading Files\n",
    "You can read the contents of a file using different methods: `read()`, `readline()`, and `readlines()`."
   ]
  },
  {
   "cell_type": "code",
   "execution_count": 9,
   "id": "0add0228",
   "metadata": {},
   "outputs": [
    {
     "name": "stdout",
     "output_type": "stream",
     "text": [
      "Hello, world!\n"
     ]
    }
   ],
   "source": [
    "# Reading the entire file\n",
    "f = open('sample.txt', 'r')\n",
    "content = f.read()\n",
    "print(content)\n",
    "f.close()"
   ]
  },
  {
   "cell_type": "code",
   "execution_count": 13,
   "id": "cd4748f9",
   "metadata": {},
   "outputs": [
    {
     "name": "stdout",
     "output_type": "stream",
     "text": [
      "Hello, world!\n"
     ]
    }
   ],
   "source": [
    "# Reading line by line\n",
    "with open('sample.txt', 'r') as f:\n",
    "    for line in f:\n",
    "        print(line.strip())"
   ]
  },
  {
   "cell_type": "markdown",
   "id": "f66c615a",
   "metadata": {},
   "source": [
    "## 3. Writing and Appending to Files\n",
    "Use mode `'w'` to write (overwrites file) and `'a'` to append (adds to the end)."
   ]
  },
  {
   "cell_type": "code",
   "execution_count": 14,
   "id": "1353153f",
   "metadata": {},
   "outputs": [],
   "source": [
    "# Appending to a file\n",
    "with open('sample.txt', 'a') as f:\n",
    "    f.write('\\nThis is an appended line.')"
   ]
  },
  {
   "cell_type": "markdown",
   "id": "66b4f4ff",
   "metadata": {},
   "source": [
    "## 4. Working with Context Managers\n",
    "The `with` statement automatically closes the file, even if an error occurs. This is the recommended way to handle files."
   ]
  },
  {
   "cell_type": "code",
   "execution_count": 15,
   "id": "a86f1498",
   "metadata": {},
   "outputs": [
    {
     "name": "stdout",
     "output_type": "stream",
     "text": [
      "Hello, world!\n",
      "This is an appended line.\n"
     ]
    }
   ],
   "source": [
    "with open('sample.txt', 'r') as f:\n",
    "    print(f.read())"
   ]
  },
  {
   "cell_type": "markdown",
   "id": "936177dc",
   "metadata": {},
   "source": [
    "## 5. Exception Handling\n",
    "Exception handling lets you manage errors gracefully, preventing your program from crashing unexpectedly.\n",
    "\n",
    "**Key Points:**\n",
    "- Use `try`, `except`, `else`, and `finally` blocks.\n",
    "- Catch specific exceptions for better error handling."
   ]
  },
  {
   "cell_type": "code",
   "execution_count": 6,
   "id": "078b666e",
   "metadata": {},
   "outputs": [
    {
     "name": "stdout",
     "output_type": "stream",
     "text": [
      "Error: [Errno 2] No such file or directory: 'nonexistent.txt'\n",
      "Execution completed.\n"
     ]
    }
   ],
   "source": [
    "try:\n",
    "    with open('nonexistent.txt', 'r') as f:\n",
    "        data = f.read()\n",
    "except FileNotFoundError as e:\n",
    "    print(f\"Error: {e}\")\n",
    "finally:\n",
    "    print(\"Execution completed.\")"
   ]
  },
  {
   "cell_type": "markdown",
   "id": "cf67d375",
   "metadata": {},
   "source": [
    "## 6. Common Exceptions\n",
    "Some common exceptions in file handling include:\n",
    "- `FileNotFoundError`: File does not exist.\n",
    "- `PermissionError`: No permission to access the file.\n",
    "- `IOError`: General input/output error."
   ]
  },
  {
   "cell_type": "markdown",
   "id": "e194bb01",
   "metadata": {},
   "source": [
    "## 7. Custom Exceptions\n",
    "You can define your own exceptions by subclassing the `Exception` class."
   ]
  },
  {
   "cell_type": "code",
   "execution_count": 7,
   "id": "a5c2741b",
   "metadata": {},
   "outputs": [
    {
     "name": "stdout",
     "output_type": "stream",
     "text": [
      "This is a custom error!\n"
     ]
    }
   ],
   "source": [
    "class CustomError(Exception):\n",
    "    pass\n",
    "\n",
    "try:\n",
    "    raise CustomError(\"This is a custom error!\")\n",
    "except CustomError as e:\n",
    "    print(e)"
   ]
  },
  {
   "cell_type": "markdown",
   "id": "ffb7e2ba",
   "metadata": {},
   "source": [
    "## 8. Best Practices\n",
    "- Always use context managers (`with` statement) for file operations.\n",
    "- Handle exceptions to make your code robust.\n",
    "- Clean up resources in the `finally` block if needed.\n",
    "- Use descriptive error messages."
   ]
  },
  {
   "cell_type": "markdown",
   "id": "d0da575e",
   "metadata": {},
   "source": [
    "---\n",
    "\n",
    "You now know how to handle files and exceptions in Python! Practice these concepts to write safe and reliable programs."
   ]
  }
 ],
 "metadata": {
  "kernelspec": {
   "display_name": ".venv",
   "language": "python",
   "name": "python3"
  },
  "language_info": {
   "codemirror_mode": {
    "name": "ipython",
    "version": 3
   },
   "file_extension": ".py",
   "mimetype": "text/x-python",
   "name": "python",
   "nbconvert_exporter": "python",
   "pygments_lexer": "ipython3",
   "version": "3.13.3"
  }
 },
 "nbformat": 4,
 "nbformat_minor": 5
}
