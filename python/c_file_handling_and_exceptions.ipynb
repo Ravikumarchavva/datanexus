{
 "cells": [
  {
   "cell_type": "markdown",
   "id": "03320043",
   "metadata": {},
   "source": [
    "# File Handling and Exception Handling in Python\n",
    "\n",
    "In this section, you'll learn how to work with files (reading, writing, and appending) and how to handle exceptions in Python. These are essential skills for robust and reliable programming."
   ]
  },
  {
   "cell_type": "markdown",
   "id": "129c4a3d",
   "metadata": {},
   "source": [
    "## Table of Contents\n",
    "1. I[ntroduction to File Handling](#introduction-to-file-handling)\n",
    "2. [Reading Files](#reading-files)\n",
    "3. [Writing and Appending to Files](#writing-and-appending-to-files)\n",
    "4. [Working with Context Managers](#working-with-context-managers)\n",
    "5. [Exception Handling](#exception-handling)\n",
    "6. [Common Exceptions](#common-exceptions)\n",
    "7. [Custom Exceptions](#custom-exceptions)\n",
    "8. [Best Practices](#best-practices)"
   ]
  },
  {
   "cell_type": "markdown",
   "id": "1ef21af8",
   "metadata": {},
   "source": [
    "## 1. Introduction to File Handling\n",
    "File handling allows you to store data permanently in files and retrieve it when needed. Python provides built-in functions to create, read, write, and delete files.\n",
    "\n",
    "**Key Points:**\n",
    "- Files can be text or binary.\n",
    "- Always close files after use, or use context managers (`with` statement) to handle files safely."
   ]
  },
  {
   "cell_type": "code",
   "execution_count": null,
   "id": "ff343298",
   "metadata": {},
   "outputs": [],
   "source": [
    "# Opening a file (creates the file if it doesn't exist)\n",
    "f = open(\"files/sample.txt\", \"w\")\n",
    "f.write(\"Hello, world!\")\n",
    "f.close()"
   ]
  },
  {
   "cell_type": "markdown",
   "id": "4a9bdfae",
   "metadata": {},
   "source": [
    "## 2. Reading Files\n",
    "You can read the contents of a file using different methods: `read()`, `readline()`, and `readlines()`."
   ]
  },
  {
   "cell_type": "code",
   "execution_count": 18,
   "id": "0add0228",
   "metadata": {},
   "outputs": [
    {
     "name": "stdout",
     "output_type": "stream",
     "text": [
      "Hello, world!\n"
     ]
    }
   ],
   "source": [
    "# Reading the entire file\n",
    "f = open(\"files/sample.txt\", \"r\")\n",
    "content = f.read()\n",
    "print(content)\n",
    "f.close()"
   ]
  },
  {
   "cell_type": "code",
   "execution_count": 19,
   "id": "cd4748f9",
   "metadata": {},
   "outputs": [
    {
     "name": "stdout",
     "output_type": "stream",
     "text": [
      "Hello, world!\n"
     ]
    }
   ],
   "source": [
    "# Reading line by line\n",
    "with open(\"files/sample.txt\", \"r\") as f:\n",
    "    for line in f:\n",
    "        print(line.strip())"
   ]
  },
  {
   "cell_type": "markdown",
   "id": "f66c615a",
   "metadata": {},
   "source": [
    "## 3. Writing and Appending to Files\n",
    "Use mode `'w'` to write (overwrites file) and `'a'` to append (adds to the end)."
   ]
  },
  {
   "cell_type": "code",
   "execution_count": null,
   "id": "1353153f",
   "metadata": {},
   "outputs": [],
   "source": [
    "# Appending to a file\n",
    "with open(\"sample.txt\", \"a\") as f:\n",
    "    f.write(\"\\nThis is an appended line.\")"
   ]
  },
  {
   "cell_type": "markdown",
   "id": "66b4f4ff",
   "metadata": {},
   "source": [
    "## 4. Working with Context Managers\n",
    "The `with` statement automatically closes the file, even if an error occurs. This is the recommended way to handle files."
   ]
  },
  {
   "cell_type": "code",
   "execution_count": null,
   "id": "a86f1498",
   "metadata": {},
   "outputs": [
    {
     "name": "stdout",
     "output_type": "stream",
     "text": [
      "Hello, world!\n",
      "This is an appended line.\n"
     ]
    }
   ],
   "source": [
    "with open(\"sample.txt\", \"r\") as f:\n",
    "    print(f.read())"
   ]
  },
  {
   "cell_type": "code",
   "execution_count": 22,
   "id": "bb3a0134",
   "metadata": {},
   "outputs": [
    {
     "name": "stdout",
     "output_type": "stream",
     "text": [
      "{'key': 'value', 'number': 42}\n"
     ]
    }
   ],
   "source": [
    "import pickle\n",
    "\n",
    "m = open(\"files/model.pkl\", \"wb\")\n",
    "data = {\"key\": \"value\", \"number\": 42}\n",
    "pickle.dump(data, m)\n",
    "m.close()\n",
    "\n",
    "m1 = open(\"files/model.pkl\", \"rb\")\n",
    "data = pickle.load(m1)\n",
    "print(data)\n",
    "m1.close()"
   ]
  },
  {
   "cell_type": "code",
   "execution_count": null,
   "id": "4818ab56",
   "metadata": {},
   "outputs": [
    {
     "data": {
      "text/html": [
       "<div>\n",
       "<style scoped>\n",
       "    .dataframe tbody tr th:only-of-type {\n",
       "        vertical-align: middle;\n",
       "    }\n",
       "\n",
       "    .dataframe tbody tr th {\n",
       "        vertical-align: top;\n",
       "    }\n",
       "\n",
       "    .dataframe thead th {\n",
       "        text-align: right;\n",
       "    }\n",
       "</style>\n",
       "<table border=\"1\" class=\"dataframe\">\n",
       "  <thead>\n",
       "    <tr style=\"text-align: right;\">\n",
       "      <th></th>\n",
       "      <th>A</th>\n",
       "      <th>B</th>\n",
       "    </tr>\n",
       "  </thead>\n",
       "  <tbody>\n",
       "    <tr>\n",
       "      <th>0</th>\n",
       "      <td>1</td>\n",
       "      <td>4</td>\n",
       "    </tr>\n",
       "    <tr>\n",
       "      <th>1</th>\n",
       "      <td>2</td>\n",
       "      <td>5</td>\n",
       "    </tr>\n",
       "    <tr>\n",
       "      <th>2</th>\n",
       "      <td>3</td>\n",
       "      <td>6</td>\n",
       "    </tr>\n",
       "  </tbody>\n",
       "</table>\n",
       "</div>"
      ],
      "text/plain": [
       "   A  B\n",
       "0  1  4\n",
       "1  2  5\n",
       "2  3  6"
      ]
     },
     "metadata": {},
     "output_type": "display_data"
    }
   ],
   "source": [
    "import pandas as pd\n",
    "\n",
    "# Creating a DataFrame and saving it to a CSV file\n",
    "df = pd.DataFrame({\"A\": [1, 2, 3], \"B\": [4, 5, 6]})\n",
    "df.to_csv(\"files/data.csv\", index=False)\n",
    "# Reading the CSV file back into a DataFrame\n",
    "df_read = pd.read_csv(\"files/data.csv\")\n",
    "# Displaying the DataFrame\n",
    "df_read"
   ]
  },
  {
   "cell_type": "markdown",
   "id": "936177dc",
   "metadata": {},
   "source": [
    "## 5. Exception Handling\n",
    "Exception handling lets you manage errors gracefully, preventing your program from crashing unexpectedly.\n",
    "\n",
    "**Key Points:**\n",
    "- Use `try`, `except`, `else`, and `finally` blocks.\n",
    "- Catch specific exceptions for better error handling."
   ]
  },
  {
   "cell_type": "code",
   "execution_count": null,
   "id": "078b666e",
   "metadata": {},
   "outputs": [
    {
     "name": "stdout",
     "output_type": "stream",
     "text": [
      "Error: [Errno 2] No such file or directory: 'nonexistent.txt'\n",
      "Execution completed.\n"
     ]
    }
   ],
   "source": [
    "try:\n",
    "    with open(\"nonexistent.txt\", \"r\") as f:\n",
    "        data = f.read()\n",
    "except FileNotFoundError as e:\n",
    "    print(f\"Error: {e}\")\n",
    "finally:\n",
    "    print(\"Execution completed.\")"
   ]
  },
  {
   "cell_type": "markdown",
   "id": "cf67d375",
   "metadata": {},
   "source": [
    "## 6. Common Exceptions\n",
    "Some common exceptions in file handling include:\n",
    "- `FileNotFoundError`: File does not exist.\n",
    "- `PermissionError`: No permission to access the file.\n",
    "- `IOError`: General input/output error."
   ]
  },
  {
   "cell_type": "markdown",
   "id": "e194bb01",
   "metadata": {},
   "source": [
    "## 7. Custom Exceptions\n",
    "You can define your own exceptions by subclassing the `Exception` class."
   ]
  },
  {
   "cell_type": "code",
   "execution_count": 32,
   "id": "a5c2741b",
   "metadata": {},
   "outputs": [
    {
     "name": "stdout",
     "output_type": "stream",
     "text": [
      "This is a custom error! (occurred at 2025-05-27 23:50:25.769248)\n"
     ]
    }
   ],
   "source": [
    "from datetime import datetime\n",
    "class CustomError(Exception):\n",
    "    def __init__(self, message):\n",
    "        self.message = message\n",
    "        self.timestamp = datetime.now()\n",
    "    def __str__(self):\n",
    "        return f\"{self.message} (occurred at {self.timestamp})\"\n",
    "\n",
    "try:\n",
    "    raise CustomError(\"This is a custom error!\")\n",
    "except CustomError as e:\n",
    "    print(e)"
   ]
  },
  {
   "cell_type": "markdown",
   "id": "ffb7e2ba",
   "metadata": {},
   "source": [
    "## 8. Best Practices\n",
    "- Always use context managers (`with` statement) for file operations.\n",
    "- Handle exceptions to make your code robust.\n",
    "- Clean up resources in the `finally` block if needed.\n",
    "- Use descriptive error messages."
   ]
  },
  {
   "cell_type": "markdown",
   "id": "d0da575e",
   "metadata": {},
   "source": [
    "---\n",
    "\n",
    "You now know how to handle files and exceptions in Python! Practice these concepts to write safe and reliable programs."
   ]
  }
 ],
 "metadata": {
  "kernelspec": {
   "display_name": ".venv",
   "language": "python",
   "name": "python3"
  },
  "language_info": {
   "codemirror_mode": {
    "name": "ipython",
    "version": 3
   },
   "file_extension": ".py",
   "mimetype": "text/x-python",
   "name": "python",
   "nbconvert_exporter": "python",
   "pygments_lexer": "ipython3",
   "version": "3.13.3"
  }
 },
 "nbformat": 4,
 "nbformat_minor": 5
}
