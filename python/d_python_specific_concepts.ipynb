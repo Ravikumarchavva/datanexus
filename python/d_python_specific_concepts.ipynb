{
 "cells": [
  {
   "cell_type": "markdown",
   "id": "7ebd6e6b",
   "metadata": {},
   "source": [
    "## python specific data structures"
   ]
  },
  {
   "cell_type": "code",
   "execution_count": 1,
   "id": "e0e72b19",
   "metadata": {},
   "outputs": [
    {
     "name": "stdout",
     "output_type": "stream",
     "text": [
      "['apple', 'banana', 'cherry', 'cherry', 1]\n",
      "{'apple': 1, 'banana': 2, 'cherry': 4, 1: 5}\n",
      "('apple', 'banana', 'cherry', 'cherry', 1)\n",
      "{1, 'cherry', 'banana', 'apple'}\n"
     ]
    }
   ],
   "source": [
    "#  1. List — Ordered, Mutable, Allows Duplicates\n",
    "fruits_list = ['apple', 'banana', 'cherry', 'cherry', 1]\n",
    "\n",
    "# 2. Dictionary — Ordered, Mutable, No Duplicates\n",
    "fruits_dict = {'apple': 1, 'banana': 2, 'cherry': 3, 'cherry': 4, 1: 5}\n",
    "\n",
    "# 3. Tuple — Ordered, Immutable, Allows Duplicates\n",
    "fruits_tuple = ('apple', 'banana', 'cherry', 'cherry', 1)\n",
    "\n",
    "# 4. Set — Unordered, Immutable, No Duplicates\n",
    "fruits_set = {'apple', 'banana', 'cherry', 'cherry', 1}\n",
    "\n",
    "print(fruits_list)\n",
    "print(fruits_dict)\n",
    "print(fruits_tuple)\n",
    "print(fruits_set)"
   ]
  },
  {
   "cell_type": "markdown",
   "id": "0591a53e",
   "metadata": {},
   "source": [
    "## list comprehension"
   ]
  },
  {
   "cell_type": "code",
   "execution_count": 2,
   "id": "77633681",
   "metadata": {},
   "outputs": [
    {
     "data": {
      "text/plain": [
       "[0, 1, 2, 3, 4, 5, 6, 7, 8, 9]"
      ]
     },
     "execution_count": 2,
     "metadata": {},
     "output_type": "execute_result"
    }
   ],
   "source": [
    "numbers = [x for x in range(10)]\n",
    "numbers"
   ]
  },
  {
   "cell_type": "markdown",
   "id": "d0522670",
   "metadata": {},
   "source": [
    "## Dictionary comprehension"
   ]
  },
  {
   "cell_type": "code",
   "execution_count": 7,
   "id": "7de16747",
   "metadata": {},
   "outputs": [
    {
     "data": {
      "text/plain": [
       "{0: 0, 1: 1, 2: 4, 3: 9, 4: 16, 5: 25, 6: 36, 7: 49, 8: 64, 9: 81}"
      ]
     },
     "execution_count": 7,
     "metadata": {},
     "output_type": "execute_result"
    }
   ],
   "source": [
    "squares = {x: x**2 for x in range(10)}\n",
    "squares"
   ]
  },
  {
   "cell_type": "code",
   "execution_count": 8,
   "id": "2edc9cde",
   "metadata": {},
   "outputs": [
    {
     "data": {
      "text/plain": [
       "(1, 5)"
      ]
     },
     "execution_count": 8,
     "metadata": {},
     "output_type": "execute_result"
    }
   ],
   "source": [
    "a, *b, c = [1,2,3,4,5]\n",
    "a,c"
   ]
  },
  {
   "cell_type": "code",
   "execution_count": 9,
   "id": "e850c158",
   "metadata": {},
   "outputs": [
    {
     "data": {
      "text/plain": [
       "[2, 3, 4]"
      ]
     },
     "execution_count": 9,
     "metadata": {},
     "output_type": "execute_result"
    }
   ],
   "source": [
    "b"
   ]
  },
  {
   "cell_type": "code",
   "execution_count": 18,
   "id": "59571f23",
   "metadata": {},
   "outputs": [
    {
     "data": {
      "text/plain": [
       "27"
      ]
     },
     "execution_count": 18,
     "metadata": {},
     "output_type": "execute_result"
    }
   ],
   "source": [
    "(lambda x: x**3)(3)\n",
    "# cubes(3)"
   ]
  },
  {
   "cell_type": "code",
   "execution_count": null,
   "id": "326dc815",
   "metadata": {},
   "outputs": [],
   "source": [
    "#gen iter dec"
   ]
  },
  {
   "cell_type": "markdown",
   "id": "5f9dca48",
   "metadata": {},
   "source": [
    "# Iterators\n",
    "Iterators are objects that can be iterated upon, meaning that you can traverse through all the values. It contaiuns ___iter__() and __next__() methods."
   ]
  },
  {
   "cell_type": "code",
   "execution_count": null,
   "id": "cdffc6a4",
   "metadata": {},
   "outputs": [
    {
     "name": "stdout",
     "output_type": "stream",
     "text": [
      "1\n",
      "2\n",
      "3\n",
      "4\n",
      "5\n"
     ]
    }
   ],
   "source": [
    "class DataIterator:\n",
    "    def __init__(self, data):\n",
    "        self.data = data\n",
    "        self.index = 0\n",
    "\n",
    "    def __iter__(self):\n",
    "        return self\n",
    "\n",
    "    def __next__(self):\n",
    "        if self.index < len(self.data):\n",
    "            result = self.data[self.index]\n",
    "            self.index += 1\n",
    "            return result\n",
    "        else:\n",
    "            raise StopIteration\n",
    "data = [1, 2, 3, 4, 5]\n",
    "data_iter = DataIterator(data)\n",
    "for item in data_iter:\n",
    "    print(item)"
   ]
  },
  {
   "cell_type": "markdown",
   "id": "f1edd6fd",
   "metadata": {},
   "source": [
    "# Generators\n",
    "Generators are a way to create iterators in Python using a function that yields values one at a time, allowing for memory-efficient iteration over large datasets."
   ]
  },
  {
   "cell_type": "code",
   "execution_count": null,
   "id": "b2849305",
   "metadata": {},
   "outputs": [],
   "source": [
    "# generator function\n",
    "def gen_numbers(n):\n",
    "    for i in range(1,n+1):\n",
    "        yield i\n",
    "\n",
    "for num in gen_numbers(5_000_000):\n",
    "    print(num.__format__('_'))"
   ]
  },
  {
   "cell_type": "markdown",
   "id": "61f79635",
   "metadata": {},
   "source": [
    "# Decorators\n",
    "Decorators are a way to modify or enhance functions or methods in Python without changing their code. They are often used for logging, access control, memoization, and other cross-cutting concerns."
   ]
  },
  {
   "cell_type": "code",
   "execution_count": 12,
   "id": "dec1e685",
   "metadata": {},
   "outputs": [
    {
     "name": "stdout",
     "output_type": "stream",
     "text": [
      "Calling function 'add' with arguments: (5, 10), {}\n",
      "Function 'add' returned: 15\n"
     ]
    },
    {
     "data": {
      "text/plain": [
       "15"
      ]
     },
     "execution_count": 12,
     "metadata": {},
     "output_type": "execute_result"
    }
   ],
   "source": [
    "def log_decorator(func):\n",
    "    def wrapper(*args, **kwargs):\n",
    "        print(f\"Calling function '{func.__name__}' with arguments: {args}, {kwargs}\")\n",
    "        result = func(*args, **kwargs)\n",
    "        print(f\"Function '{func.__name__}' returned: {result}\")\n",
    "        return result\n",
    "    return wrapper\n",
    "@log_decorator\n",
    "def add(a, b):\n",
    "    return a + b\n",
    "\n",
    "add(5, 10)"
   ]
  },
  {
   "cell_type": "code",
   "execution_count": 13,
   "id": "9447c2b9",
   "metadata": {},
   "outputs": [
    {
     "name": "stdout",
     "output_type": "stream",
     "text": [
      "5\n",
      "6\n",
      "7\n",
      "8\n",
      "9\n",
      "10\n",
      "apple\n",
      "banana\n",
      "cherry\n",
      "hello\n"
     ]
    }
   ],
   "source": [
    "from itertools import count, cycle, repeat\n",
    "def infinite_counter(start=0):\n",
    "    for i in count(start):\n",
    "        yield i\n",
    "def infinite_cycler(iterable):\n",
    "    for item in cycle(iterable):\n",
    "        yield item\n",
    "def infinite_repeater(item):\n",
    "    for _ in repeat(item):\n",
    "        yield item\n",
    "# Example usage of infinite generators\n",
    "for num in infinite_counter(5):\n",
    "    print(num)\n",
    "    if num >= 10:  # Limit to avoid infinite loop in this example\n",
    "        break\n",
    "for item in infinite_cycler(['apple', 'banana', 'cherry']):\n",
    "    print(item)\n",
    "    if item == 'cherry':  # Limit to avoid infinite loop in this example\n",
    "        break\n",
    "for item in infinite_repeater('hello'):\n",
    "    print(item)\n",
    "    if item == 'hello':  # Limit to avoid infinite loop in this example\n",
    "        break"
   ]
  },
  {
   "cell_type": "code",
   "execution_count": 23,
   "id": "28d6fee0",
   "metadata": {},
   "outputs": [
    {
     "name": "stdout",
     "output_type": "stream",
     "text": [
      "Product of numbers [1, 2, 3, 4, 5] is 120\n"
     ]
    }
   ],
   "source": [
    "from functools import reduce\n",
    "\n",
    "def product(x, y):\n",
    "    return x * y\n",
    "numbers = [1, 2, 3, 4, 5]\n",
    "result = reduce(product, numbers)\n",
    "print(f\"Product of numbers {numbers} is {result}\")"
   ]
  },
  {
   "cell_type": "code",
   "execution_count": 24,
   "id": "d5284606",
   "metadata": {},
   "outputs": [
    {
     "name": "stdout",
     "output_type": "stream",
     "text": [
      "Time taken for Fibonacci calculation: 0.000139 seconds\n",
      "Time taken for Fibonacci calculation without cache: 0.223050 seconds\n"
     ]
    }
   ],
   "source": [
    "from functools import lru_cache\n",
    "from time import time\n",
    "\n",
    "@lru_cache(maxsize=128)\n",
    "def fibonacci(n):\n",
    "    if n < 2:\n",
    "        return n\n",
    "    return fibonacci(n - 1) + fibonacci(n - 2)\n",
    "\n",
    "start_time = time()\n",
    "for i in range(30):\n",
    "   fibonacci(i)\n",
    "end_time = time()\n",
    "print(f\"Time taken for Fibonacci calculation: {end_time - start_time:.6f} seconds\")\n",
    "def fibonacci_no_cache(n):\n",
    "    if n < 2:\n",
    "        return n\n",
    "    return fibonacci_no_cache(n - 1) + fibonacci_no_cache(n - 2)\n",
    "start_time_no_cache = time()\n",
    "for i in range(30):\n",
    "    fibonacci_no_cache(i)\n",
    "end_time_no_cache = time()\n",
    "print(f\"Time taken for Fibonacci calculation without cache: {end_time_no_cache - start_time_no_cache:.6f} seconds\")"
   ]
  },
  {
   "cell_type": "code",
   "execution_count": null,
   "id": "71266803",
   "metadata": {},
   "outputs": [
    {
     "name": "stdout",
     "output_type": "stream",
     "text": [
      "deque(['elderberry', 'apple', 'banana', 'cherry', 'date'])\n",
      "1\n",
      "2\n",
      "4\n"
     ]
    }
   ],
   "source": [
    "from collections import deque\n",
    "# Example of using deque for a queue\n",
    "queue = deque(['apple', 'banana', 'cherry'])\n",
    "queue.append('date')\n",
    "queue.appendleft('elderberry')\n",
    "print(queue)"
   ]
  },
  {
   "cell_type": "code",
   "execution_count": null,
   "id": "4167cb94",
   "metadata": {},
   "outputs": [],
   "source": []
  }
 ],
 "metadata": {
  "kernelspec": {
   "display_name": ".venv",
   "language": "python",
   "name": "python3"
  },
  "language_info": {
   "codemirror_mode": {
    "name": "ipython",
    "version": 3
   },
   "file_extension": ".py",
   "mimetype": "text/x-python",
   "name": "python",
   "nbconvert_exporter": "python",
   "pygments_lexer": "ipython3",
   "version": "3.13.3"
  }
 },
 "nbformat": 4,
 "nbformat_minor": 5
}
