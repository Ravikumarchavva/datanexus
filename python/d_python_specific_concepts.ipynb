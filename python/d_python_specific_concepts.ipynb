{
 "cells": [
  {
   "cell_type": "markdown",
   "id": "7ebd6e6b",
   "metadata": {},
   "source": [
    "## python specific data structures"
   ]
  },
  {
   "cell_type": "code",
   "execution_count": null,
   "id": "e0e72b19",
   "metadata": {},
   "outputs": [
    {
     "name": "stdout",
     "output_type": "stream",
     "text": [
      "['apple', 'banana', 'cherry', 'cherry', 1]\n",
      "{'apple': 1, 'banana': 2, 'cherry': 4, 1: 5}\n",
      "('apple', 'banana', 'cherry', 'cherry', 1)\n",
      "{1, 'cherry', 'apple', 'banana'}\n"
     ]
    }
   ],
   "source": [
    "#  1. List — Ordered, Mutable, Allows Duplicates\n",
    "fruits_list = ['apple', 'banana', 'cherry', 'cherry', 1]\n",
    "\n",
    "# 2. Dictionary — Ordered, Mutable, No Duplicates\n",
    "fruits_dict = {'apple': 1, 'banana': 2, 'cherry': 3, 'cherry': 4, 1: 5}\n",
    "\n",
    "# 3. Tuple — Ordered, Immutable, Allows Duplicates\n",
    "fruits_tuple = ('apple', 'banana', 'cherry', 'cherry', 1)\n",
    "\n",
    "# 4. Set — Unordered, Immutable, No Duplicates\n",
    "fruits_set = {'apple', 'banana', 'cherry', 'cherry', 1}\n",
    "\n",
    "print(fruits_list)\n",
    "print(fruits_dict)\n",
    "print(fruits_tuple)\n",
    "print(fruits_set)"
   ]
  }
 ],
 "metadata": {
  "language_info": {
   "name": "python"
  }
 },
 "nbformat": 4,
 "nbformat_minor": 5
}
