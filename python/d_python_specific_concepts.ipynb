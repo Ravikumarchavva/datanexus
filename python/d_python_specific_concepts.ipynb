{
 "cells": [
  {
   "cell_type": "markdown",
   "id": "f002208f",
   "metadata": {},
   "source": [
    "# Python-Specific Data Structures and Concepts\n",
    "\n",
    "This notebook covers Python's built-in data structures and several advanced Python-specific concepts. It is structured for easy learning and revision."
   ]
  },
  {
   "cell_type": "markdown",
   "id": "cd82c860",
   "metadata": {},
   "source": [
    "## Table of Contents\n",
    "1. [Core Data Structures](#core-data-structures)\n",
    "    - [List](#1-list)\n",
    "    - [Dictionary](#2-dictionary)\n",
    "    - [Tuple](#3-tuple)\n",
    "    - [Set](#4-set)\n",
    "    - [Summary Table](#summary-table)\n",
    "2. [Comprehensions](#comprehensions)\n",
    "    - [List Comprehension](#list-comprehension)\n",
    "    - [Dictionary Comprehension](#dictionary-comprehension)\n",
    "3. [Unpacking and Lambda](#unpacking-and-lambda)\n",
    "4. [Iterators and Generators](#iterators-and-generators)\n",
    "    - [Iterators](#iterators)\n",
    "    - [Generators](#generators)\n",
    "5. [Decorators](#decorators)\n",
    "6. [Useful Built-in Functions](#useful-built-in-functions)\n",
    "7. [Collections](#collections)"
   ]
  },
  {
   "cell_type": "markdown",
   "id": "3abf2331",
   "metadata": {},
   "source": [
    "## 1. Core Data Structures\n",
    "\n",
    "Python provides several built-in data structures, each with unique properties. Let's explore the most common ones: List, Dictionary, Tuple, and Set."
   ]
  },
  {
   "cell_type": "markdown",
   "id": "09bed907",
   "metadata": {},
   "source": [
    "## 1. List\n",
    "\n",
    "A list is an ordered, mutable collection that allows duplicate elements."
   ]
  },
  {
   "cell_type": "code",
   "execution_count": 1,
   "id": "0b174017",
   "metadata": {},
   "outputs": [
    {
     "name": "stdout",
     "output_type": "stream",
     "text": [
      "['apple', 'banana', 'cherry', 'cherry', 1]\n"
     ]
    }
   ],
   "source": [
    "fruits_list = ['apple', 'banana', 'cherry', 'cherry', 1]\n",
    "print(fruits_list)"
   ]
  },
  {
   "cell_type": "markdown",
   "id": "3dda4fb4",
   "metadata": {},
   "source": [
    "## 2. Dictionary\n",
    "\n",
    "A dictionary is an ordered (Python 3.7+), mutable collection of key-value pairs. Keys must be unique and immutable."
   ]
  },
  {
   "cell_type": "code",
   "execution_count": 2,
   "id": "0590ba8c",
   "metadata": {},
   "outputs": [
    {
     "name": "stdout",
     "output_type": "stream",
     "text": [
      "{'apple': 1, 'banana': 2, 'cherry': 3, 1: 5}\n"
     ]
    }
   ],
   "source": [
    "fruits_dict = {'apple': 1, 'banana': 2, 'cherry': 3, 1: 5}\n",
    "print(fruits_dict)"
   ]
  },
  {
   "cell_type": "markdown",
   "id": "d77380ba",
   "metadata": {},
   "source": [
    "## 3. Tuple\n",
    "\n",
    "A tuple is an ordered, immutable collection that allows duplicate elements."
   ]
  },
  {
   "cell_type": "code",
   "execution_count": 3,
   "id": "3be8a450",
   "metadata": {},
   "outputs": [
    {
     "name": "stdout",
     "output_type": "stream",
     "text": [
      "('apple', 'banana', 'cherry', 'cherry', 1)\n"
     ]
    }
   ],
   "source": [
    "fruits_tuple = ('apple', 'banana', 'cherry', 'cherry', 1)\n",
    "print(fruits_tuple)"
   ]
  },
  {
   "cell_type": "markdown",
   "id": "a0cad7b0",
   "metadata": {},
   "source": [
    "## 4. Set\n",
    "\n",
    "A set is an unordered, mutable collection of unique elements. Duplicates are automatically removed."
   ]
  },
  {
   "cell_type": "code",
   "execution_count": 4,
   "id": "149fcb93",
   "metadata": {},
   "outputs": [
    {
     "name": "stdout",
     "output_type": "stream",
     "text": [
      "{'cherry', 1, 'banana', 'apple'}\n"
     ]
    }
   ],
   "source": [
    "fruits_set = {'apple', 'banana', 'cherry', 1}\n",
    "print(fruits_set)"
   ]
  },
  {
   "cell_type": "markdown",
   "id": "65a23c6b",
   "metadata": {},
   "source": [
    "### Summary Table\n",
    "\n",
    "| Data Structure | Ordered | Mutable | Allows Duplicates | Example Syntax |\n",
    "| -------------- | ------- | ------- | ----------------- | ------------- |\n",
    "| List           | Yes     | Yes     | Yes               | `[]`          |\n",
    "| Dictionary     | Yes*    | Yes     | Keys: No, Values: Yes | `{}`      |\n",
    "| Tuple          | Yes     | No      | Yes               | `()`          |\n",
    "| Set            | No      | Yes     | No                | `{}`          |\n",
    "\n",
    "*Dictionaries are ordered as of Python 3.7+"
   ]
  },
  {
   "cell_type": "markdown",
   "id": "5bda1aae",
   "metadata": {},
   "source": [
    "## 2. Comprehensions\n",
    "\n",
    "Comprehensions provide a concise way to create lists and dictionaries."
   ]
  },
  {
   "cell_type": "markdown",
   "id": "ffc1b065",
   "metadata": {},
   "source": [
    "### List Comprehension"
   ]
  },
  {
   "cell_type": "code",
   "execution_count": 5,
   "id": "e087becb",
   "metadata": {},
   "outputs": [
    {
     "data": {
      "text/plain": [
       "[0, 1, 2, 3, 4, 5, 6, 7, 8, 9]"
      ]
     },
     "execution_count": 5,
     "metadata": {},
     "output_type": "execute_result"
    }
   ],
   "source": [
    "numbers = [x for x in range(10)]\n",
    "numbers"
   ]
  },
  {
   "cell_type": "markdown",
   "id": "cf7f3dd9",
   "metadata": {},
   "source": [
    "### Dictionary Comprehension"
   ]
  },
  {
   "cell_type": "code",
   "execution_count": 6,
   "id": "7de16747",
   "metadata": {},
   "outputs": [
    {
     "data": {
      "text/plain": [
       "{0: 0, 1: 1, 2: 4, 3: 9, 4: 16, 5: 25, 6: 36, 7: 49, 8: 64, 9: 81}"
      ]
     },
     "execution_count": 6,
     "metadata": {},
     "output_type": "execute_result"
    }
   ],
   "source": [
    "squares = {x: x**2 for x in range(10)}\n",
    "squares"
   ]
  },
  {
   "cell_type": "markdown",
   "id": "b01f9cfd",
   "metadata": {},
   "source": [
    "## 3. Unpacking and Lambda\n",
    "\n",
    "Python supports advanced unpacking and anonymous (lambda) functions for concise code."
   ]
  },
  {
   "cell_type": "markdown",
   "id": "b95117b6",
   "metadata": {},
   "source": [
    "### Unpacking\n",
    "\n",
    "Python allows unpacking of sequences into variables. You can use the `*` operator for extended unpacking."
   ]
  },
  {
   "cell_type": "code",
   "execution_count": 7,
   "id": "bcd42e9b",
   "metadata": {},
   "outputs": [
    {
     "name": "stdout",
     "output_type": "stream",
     "text": [
      "1\n",
      "[2, 3, 4]\n",
      "5\n"
     ]
    }
   ],
   "source": [
    "a, *b, c = [1, 2, 3, 4, 5]\n",
    "print(a)\n",
    "print(b)\n",
    "print(c)"
   ]
  },
  {
   "cell_type": "markdown",
   "id": "37a750e7",
   "metadata": {},
   "source": [
    "### Lambda Functions\n",
    "\n",
    "Lambda functions are small anonymous functions defined with the `lambda` keyword. They are useful for short, throwaway functions."
   ]
  },
  {
   "cell_type": "code",
   "execution_count": 8,
   "id": "a6229552",
   "metadata": {},
   "outputs": [
    {
     "data": {
      "text/plain": [
       "27"
      ]
     },
     "execution_count": 8,
     "metadata": {},
     "output_type": "execute_result"
    }
   ],
   "source": [
    "(lambda x: x ** 3)(3)"
   ]
  },
  {
   "cell_type": "markdown",
   "id": "ccb0b271",
   "metadata": {},
   "source": [
    "## 4. Iterators and Generators\n",
    "\n",
    "Iterators and generators allow efficient looping and memory usage in Python."
   ]
  },
  {
   "cell_type": "markdown",
   "id": "038b7bc4",
   "metadata": {},
   "source": [
    "### Iterators\n",
    "\n",
    "Iterators are objects that can be iterated upon, meaning you can traverse through all their values. They implement the `__iter__()` and `__next__()` methods."
   ]
  },
  {
   "cell_type": "code",
   "execution_count": 9,
   "id": "27e3ada1",
   "metadata": {},
   "outputs": [
    {
     "name": "stdout",
     "output_type": "stream",
     "text": [
      "1\n",
      "2\n",
      "3\n",
      "4\n",
      "5\n"
     ]
    }
   ],
   "source": [
    "class DataIterator:\n",
    "    def __init__(self, data):\n",
    "        self.data = data\n",
    "        self.index = 0\n",
    "\n",
    "    def __iter__(self):\n",
    "        return self\n",
    "\n",
    "    def __next__(self):\n",
    "        if self.index < len(self.data):\n",
    "            result = self.data[self.index]\n",
    "            self.index += 1\n",
    "            return result\n",
    "        else:\n",
    "            raise StopIteration\n",
    "data = [1, 2, 3, 4, 5]\n",
    "data_iter = DataIterator(data)\n",
    "for item in data_iter:\n",
    "    print(item)"
   ]
  },
  {
   "cell_type": "markdown",
   "id": "2580e6f9",
   "metadata": {},
   "source": [
    "### Generators\n",
    "\n",
    "Generators are a way to create iterators using functions that yield values one at a time, allowing for memory-efficient iteration over large datasets."
   ]
  },
  {
   "cell_type": "code",
   "execution_count": 10,
   "id": "2b037bfe",
   "metadata": {},
   "outputs": [
    {
     "name": "stdout",
     "output_type": "stream",
     "text": [
      "1000000\n",
      "2000000\n",
      "3000000\n",
      "4000000\n",
      "5000000\n"
     ]
    }
   ],
   "source": [
    "# generator function\n",
    "def gen_numbers(n):\n",
    "    for i in range(1,n+1):\n",
    "        yield i\n",
    "\n",
    "for num in gen_numbers(5_000_000):\n",
    "    if num % 1_000_000 == 0:\n",
    "        print(num)"
   ]
  },
  {
   "cell_type": "markdown",
   "id": "b1756588",
   "metadata": {},
   "source": [
    "## 5. Decorators\n",
    "\n",
    "Decorators are a way to modify or enhance functions or methods in Python without changing their code. They are often used for logging, access control, memoization, and other cross-cutting concerns."
   ]
  },
  {
   "cell_type": "code",
   "execution_count": 11,
   "id": "43c7ea4f",
   "metadata": {},
   "outputs": [
    {
     "name": "stdout",
     "output_type": "stream",
     "text": [
      "Calling function 'add' with arguments: (5, 10), {}\n",
      "Function 'add' returned: 15\n"
     ]
    },
    {
     "data": {
      "text/plain": [
       "15"
      ]
     },
     "execution_count": 11,
     "metadata": {},
     "output_type": "execute_result"
    }
   ],
   "source": [
    "def log_decorator(func):\n",
    "    def wrapper(*args, **kwargs):\n",
    "        print(f\"Calling function '{func.__name__}' with arguments: {args}, {kwargs}\")\n",
    "        result = func(*args, **kwargs)\n",
    "        print(f\"Function '{func.__name__}' returned: {result}\")\n",
    "        return result\n",
    "    return wrapper\n",
    "@log_decorator\n",
    "def add(a, b):\n",
    "    return a + b\n",
    "\n",
    "add(5, 10)"
   ]
  },
  {
   "cell_type": "markdown",
   "id": "486b0593",
   "metadata": {},
   "source": [
    "## 6. Useful Built-in Functions\n",
    "\n",
    "Python provides many built-in functions and modules to simplify common tasks."
   ]
  },
  {
   "cell_type": "code",
   "execution_count": 12,
   "id": "28d6fee0",
   "metadata": {},
   "outputs": [
    {
     "name": "stdout",
     "output_type": "stream",
     "text": [
      "Product of numbers [1, 2, 3, 4, 5] is 120\n"
     ]
    }
   ],
   "source": [
    "from functools import reduce\n",
    "\n",
    "def product(x, y):\n",
    "    return x * y\n",
    "numbers = [1, 2, 3, 4, 5]\n",
    "result = reduce(product, numbers)\n",
    "print(f\"Product of numbers {numbers} is {result}\")"
   ]
  },
  {
   "cell_type": "code",
   "execution_count": null,
   "id": "d5284606",
   "metadata": {},
   "outputs": [
    {
     "name": "stdout",
     "output_type": "stream",
     "text": [
      "Time taken for Fibonacci calculation: 0.000065 seconds\n",
      "Time taken for Fibonacci calculation without cache: 0.180245 seconds\n"
     ]
    }
   ],
   "source": [
    "from functools import lru_cache\n",
    "from time import time\n",
    "\n",
    "@lru_cache(maxsize=128)\n",
    "def fibonacci(n):\n",
    "    if n < 2:\n",
    "        return n\n",
    "    return fibonacci(n - 1) + fibonacci(n - 2)\n",
    "\n",
    "start_time = time()\n",
    "for i in range(30):\n",
    "   fibonacci(i)\n",
    "end_time = time()\n",
    "print(f\"Time taken for Fibonacci calculation: {end_time - start_time:.6f} seconds\")\n",
    "\n",
    "def fibonacci_no_cache(n):\n",
    "    if n < 2:\n",
    "        return n\n",
    "    return fibonacci_no_cache(n - 1) + fibonacci_no_cache(n - 2)\n",
    "start_time_no_cache = time()\n",
    "for i in range(30):\n",
    "    fibonacci_no_cache(i)\n",
    "end_time_no_cache = time()\n",
    "print(f\"Time taken for Fibonacci calculation without cache: {end_time_no_cache - start_time_no_cache:.6f} seconds\")"
   ]
  },
  {
   "cell_type": "markdown",
   "id": "ceb3dfa1",
   "metadata": {},
   "source": [
    "## 7. Collections\n",
    "\n",
    "The `collections` module provides additional data structures such as `deque` for efficient queue operations."
   ]
  },
  {
   "cell_type": "code",
   "execution_count": 14,
   "id": "71266803",
   "metadata": {},
   "outputs": [
    {
     "name": "stdout",
     "output_type": "stream",
     "text": [
      "deque(['elderberry', 'apple', 'banana', 'cherry', 'date'])\n"
     ]
    }
   ],
   "source": [
    "from collections import deque\n",
    "# Example of using deque for a queue\n",
    "queue = deque(['apple', 'banana', 'cherry'])\n",
    "queue.append('date')\n",
    "queue.appendleft('elderberry')\n",
    "print(queue)"
   ]
  }
 ],
 "metadata": {
  "kernelspec": {
   "display_name": ".venv",
   "language": "python",
   "name": "python3"
  },
  "language_info": {
   "codemirror_mode": {
    "name": "ipython",
    "version": 3
   },
   "file_extension": ".py",
   "mimetype": "text/x-python",
   "name": "python",
   "nbconvert_exporter": "python",
   "pygments_lexer": "ipython3",
   "version": "3.13.3"
  }
 },
 "nbformat": 4,
 "nbformat_minor": 5
}
