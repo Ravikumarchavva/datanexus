{
  "cells": [
    {
      "cell_type": "markdown",
      "metadata": {
        "id": "TaB_UlF045ix"
      },
      "source": [
        "# <center style=\"font-size:60px;\"> Python Basics </center>"
      ]
    },
    {
      "cell_type": "markdown",
      "metadata": {},
      "source": [
        "# Table of Contents\n",
        "1. [Introduction](#introduction)\n",
        "2. [Basics](#basics)\n",
        "3. [Casting](#casting)\n",
        "4. [Functions](#functions)\n",
        "5. [Python Specific Data Types](#python-specific-data-types)\n",
        "6. [Control Flow](#control-flow)\n",
        "7. [Loops](#loops)\n"
      ]
    },
    {
      "cell_type": "markdown",
      "metadata": {},
      "source": [
        "# Introduction\n",
        "- Python is a high-level, interpreted programming language known for its simplicity, readability and versatility.\n",
        "- Python supports object-oriented, and functional programming. Its extensive standard library and active community make it a popular choice for web development, data analysis, artificial intelligence, scientific computing, and more."
      ]
    },
    {
      "cell_type": "markdown",
      "metadata": {
        "id": "ixqwCwPj-hjM"
      },
      "source": [
        "# Basics"
      ]
    },
    {
      "cell_type": "markdown",
      "metadata": {
        "id": "quiO7-_W5SAj"
      },
      "source": [
        "## Data structures"
      ]
    },
    {
      "cell_type": "code",
      "execution_count": 3,
      "metadata": {
        "colab": {
          "base_uri": "https://localhost:8080/"
        },
        "id": "L-Znoh3Z5Xdl",
        "outputId": "7eef29b3-6e71-469c-d786-47d48aafbd42"
      },
      "outputs": [
        {
          "name": "stdout",
          "output_type": "stream",
          "text": [
            "11.538461538461538\n",
            "<class 'int'>\n",
            "<class 'float'>\n",
            "<class 'float'>\n",
            "<class 'str'>\n",
            "<class 'str'>\n"
          ]
        }
      ],
      "source": [
        "runs = 60\n",
        "overs = 5.2\n",
        "run_rate = runs/overs # implicit casting\n",
        "print(run_rate)\n",
        "print(type(runs))\n",
        "print(type(overs))\n",
        "print(type(run_rate))\n",
        "\n",
        "letter = 'a'\n",
        "print(type(letter))\n",
        "batsman = 'Rohit Sharma'\n",
        "print(type(batsman))"
      ]
    },
    {
      "cell_type": "markdown",
      "metadata": {
        "id": "G3KV96tADtT2"
      },
      "source": [
        "5 = 0101\n",
        "\n",
        "\n",
        "\n",
        "0.2 = 0.2 * 2 = 0.4 * 2 = 0.8 * 2 = 1.6 = .6 * 2 = 1.2 = .2 * 2 ....\n",
        "\n",
        "= 0011 0011 0011"
      ]
    },
    {
      "cell_type": "markdown",
      "metadata": {
        "id": "FBgpfi9WIa8o"
      },
      "source": [
        "## Casting"
      ]
    },
    {
      "cell_type": "code",
      "execution_count": 4,
      "metadata": {
        "colab": {
          "base_uri": "https://localhost:8080/"
        },
        "id": "Fb18-UxKIO3A",
        "outputId": "42b63d40-8473-470c-ad0e-0e41f9115767"
      },
      "outputs": [
        {
          "data": {
            "text/plain": [
              "(60.0, 5, '60')"
            ]
          },
          "execution_count": 4,
          "metadata": {},
          "output_type": "execute_result"
        }
      ],
      "source": [
        "float(60), int(5.2), str(60)"
      ]
    },
    {
      "cell_type": "markdown",
      "metadata": {
        "id": "t7s4d2KjG9jI"
      },
      "source": [
        "## Functions"
      ]
    },
    {
      "cell_type": "code",
      "execution_count": 5,
      "metadata": {
        "colab": {
          "base_uri": "https://localhost:8080/"
        },
        "id": "-oSCMKpQG_kc",
        "outputId": "2e3d7de1-36ad-41f5-fc8e-ce77e2542706"
      },
      "outputs": [
        {
          "name": "stdout",
          "output_type": "stream",
          "text": [
            "Ticket booked at 2025-04-27 18:42:25.822637 with 100 rupees\n"
          ]
        }
      ],
      "source": [
        "from datetime import datetime\n",
        "\n",
        "def book_ticket(location_1, location_2):\n",
        "  distance = abs(int(location_1) -  int(location_2))\n",
        "  fare = 100 * distance\n",
        "  print(f\"Ticket booked at {datetime.now()} with {fare} rupees\")\n",
        "\n",
        "book_ticket('1', '2')"
      ]
    },
    {
      "cell_type": "markdown",
      "metadata": {
        "id": "CZKSv5tU7fky"
      },
      "source": [
        "## Dynamically typed language"
      ]
    },
    {
      "cell_type": "code",
      "execution_count": null,
      "metadata": {
        "colab": {
          "base_uri": "https://localhost:8080/"
        },
        "id": "W93SWTaj617b",
        "outputId": "7f94a423-b796-4329-e16f-333326aaae80"
      },
      "outputs": [
        {
          "name": "stdout",
          "output_type": "stream",
          "text": [
            "False\n",
            "<class 'int'>\n"
          ]
        }
      ],
      "source": [
        "runs : float = 60\n",
        "print(isinstance(runs, float))\n",
        "print(type(runs))"
      ]
    },
    {
      "cell_type": "code",
      "execution_count": 6,
      "metadata": {
        "colab": {
          "base_uri": "https://localhost:8080/",
          "height": 280
        },
        "id": "xetJvzS18F8J",
        "outputId": "feeead51-61ee-4cb7-f262-29a6e56afffa"
      },
      "outputs": [
        {
          "ename": "TypeError",
          "evalue": "unsupported operand type(s) for +: 'int' and 'str'",
          "output_type": "error",
          "traceback": [
            "\u001b[1;31m---------------------------------------------------------------------------\u001b[0m",
            "\u001b[1;31mTypeError\u001b[0m                                 Traceback (most recent call last)",
            "Cell \u001b[1;32mIn[6], line 4\u001b[0m\n\u001b[0;32m      1\u001b[0m \u001b[38;5;28;01mdef\u001b[39;00m \u001b[38;5;21madd\u001b[39m(a : \u001b[38;5;28mint\u001b[39m, b: \u001b[38;5;28mint\u001b[39m) \u001b[38;5;241m-\u001b[39m\u001b[38;5;241m>\u001b[39m \u001b[38;5;28mint\u001b[39m:\n\u001b[0;32m      2\u001b[0m     \u001b[38;5;28mprint\u001b[39m(a \u001b[38;5;241m+\u001b[39m b)\n\u001b[1;32m----> 4\u001b[0m add(\u001b[38;5;241m1\u001b[39m,\u001b[38;5;124m'\u001b[39m\u001b[38;5;124m2\u001b[39m\u001b[38;5;124m'\u001b[39m)\n",
            "Cell \u001b[1;32mIn[6], line 2\u001b[0m, in \u001b[0;36madd\u001b[1;34m(a, b)\u001b[0m\n\u001b[0;32m      1\u001b[0m \u001b[38;5;28;01mdef\u001b[39;00m \u001b[38;5;21madd\u001b[39m(a : \u001b[38;5;28mint\u001b[39m, b: \u001b[38;5;28mint\u001b[39m) \u001b[38;5;241m-\u001b[39m\u001b[38;5;241m>\u001b[39m \u001b[38;5;28mint\u001b[39m:\n\u001b[1;32m----> 2\u001b[0m     \u001b[38;5;28mprint\u001b[39m(a \u001b[38;5;241m+\u001b[39m b)\n",
            "\u001b[1;31mTypeError\u001b[0m: unsupported operand type(s) for +: 'int' and 'str'"
          ]
        }
      ],
      "source": [
        "def add(a : int, b: int) -> int:\n",
        "    print(a + b)\n",
        "\n",
        "add(1,'2')"
      ]
    },
    {
      "cell_type": "markdown",
      "metadata": {
        "id": "sKBIW_jFNYTA"
      },
      "source": [
        "## loops"
      ]
    },
    {
      "cell_type": "code",
      "execution_count": null,
      "metadata": {
        "colab": {
          "base_uri": "https://localhost:8080/"
        },
        "id": "uPsFxICPNZ1P",
        "outputId": "c2ea5b20-6905-480b-a2c5-bdeb7037003d"
      },
      "outputs": [
        {
          "name": "stdout",
          "output_type": "stream",
          "text": [
            "0\n",
            "1\n",
            "2\n",
            "3\n",
            "4\n"
          ]
        }
      ],
      "source": [
        "for i in range(5):\n",
        "    print(i)"
      ]
    },
    {
      "cell_type": "code",
      "execution_count": null,
      "metadata": {
        "colab": {
          "base_uri": "https://localhost:8080/"
        },
        "id": "o5wq4qoXN-Yd",
        "outputId": "230189a3-b149-4dc1-8141-fc314d5becf6"
      },
      "outputs": [
        {
          "name": "stdout",
          "output_type": "stream",
          "text": [
            "1\n",
            "2\n",
            "3\n",
            "4\n"
          ]
        }
      ],
      "source": [
        "for i in range(1,5):\n",
        "    print(i)"
      ]
    },
    {
      "cell_type": "code",
      "execution_count": null,
      "metadata": {
        "colab": {
          "base_uri": "https://localhost:8080/"
        },
        "id": "EtyKsDVLOD-1",
        "outputId": "9d3a0006-46cb-4433-f364-882488c0b9aa"
      },
      "outputs": [
        {
          "name": "stdout",
          "output_type": "stream",
          "text": [
            "1\n",
            "3\n"
          ]
        }
      ],
      "source": [
        "for i in range(1,5,2):\n",
        "    print(i)"
      ]
    },
    {
      "cell_type": "code",
      "execution_count": null,
      "metadata": {
        "colab": {
          "base_uri": "https://localhost:8080/"
        },
        "id": "QYW0O72qOF5o",
        "outputId": "688bc1b0-b502-4c36-f61f-ffcaf70a06eb"
      },
      "outputs": [
        {
          "name": "stdout",
          "output_type": "stream",
          "text": [
            "5\n",
            "4\n",
            "3\n",
            "2\n",
            "1\n"
          ]
        }
      ],
      "source": [
        "for i in range(5,0,-1):\n",
        "    print(i)"
      ]
    },
    {
      "cell_type": "code",
      "execution_count": null,
      "metadata": {
        "colab": {
          "base_uri": "https://localhost:8080/"
        },
        "id": "mNV7_ANWONgc",
        "outputId": "33227bf7-3943-424b-f915-4f4ccc2e782f"
      },
      "outputs": [
        {
          "name": "stdout",
          "output_type": "stream",
          "text": [
            "apple\n",
            "banana\n",
            "cherry\n",
            "cherry\n",
            "1\n"
          ]
        }
      ],
      "source": [
        "for i in fruits_list:\n",
        "    print(i)"
      ]
    },
    {
      "cell_type": "code",
      "execution_count": null,
      "metadata": {
        "colab": {
          "base_uri": "https://localhost:8080/"
        },
        "id": "_8fGwIVqOTKJ",
        "outputId": "23247e5a-0cf4-4842-da6b-ca83561b154c"
      },
      "outputs": [
        {
          "name": "stdout",
          "output_type": "stream",
          "text": [
            "apple\n",
            "banana\n",
            "cherry\n",
            "1\n"
          ]
        }
      ],
      "source": [
        "for i in fruits_dict:\n",
        "    print(i)"
      ]
    },
    {
      "cell_type": "code",
      "execution_count": null,
      "metadata": {
        "colab": {
          "base_uri": "https://localhost:8080/"
        },
        "id": "J70j_0wlOYRT",
        "outputId": "fa1bb1c2-ae25-4ec8-93c0-b9aa29e8d2b0"
      },
      "outputs": [
        {
          "name": "stdout",
          "output_type": "stream",
          "text": [
            "apple 1\n",
            "banana 2\n",
            "cherry 4\n",
            "1 5\n"
          ]
        }
      ],
      "source": [
        "for i,j in fruits_dict.items():\n",
        "    print(i,j)"
      ]
    },
    {
      "cell_type": "code",
      "execution_count": 7,
      "metadata": {
        "colab": {
          "base_uri": "https://localhost:8080/"
        },
        "id": "TWcRUyOFOjZ-",
        "outputId": "108d5801-59e7-44cd-d3c4-47db7e48ca92"
      },
      "outputs": [
        {
          "name": "stdout",
          "output_type": "stream",
          "text": [
            "1 10\n",
            "2 20\n",
            "3 30\n",
            "4 40\n",
            "5 50\n"
          ]
        }
      ],
      "source": [
        "inputs = [1, 2, 3, 4, 5]\n",
        "outputs = [10, 20 , 30, 40, 50]\n",
        "for i,j in zip(inputs, outputs):\n",
        "    print(i,j)"
      ]
    },
    {
      "cell_type": "code",
      "execution_count": null,
      "metadata": {
        "colab": {
          "base_uri": "https://localhost:8080/"
        },
        "id": "33Wg-Y8VOwQy",
        "outputId": "ae1545fc-9723-4703-8982-ae54801a04c3"
      },
      "outputs": [
        {
          "name": "stdout",
          "output_type": "stream",
          "text": [
            "0 apple\n",
            "1 banana\n",
            "2 cherry\n",
            "3 cherry\n",
            "4 1\n"
          ]
        }
      ],
      "source": [
        "for idx, i in enumerate(fruits_list):\n",
        "    print(idx, i)"
      ]
    },
    {
      "cell_type": "code",
      "execution_count": null,
      "metadata": {
        "id": "lSpWyF1HzvQi"
      },
      "outputs": [],
      "source": []
    },
    {
      "cell_type": "code",
      "execution_count": null,
      "metadata": {
        "id": "4NItZcRPmK-4"
      },
      "outputs": [],
      "source": []
    }
  ],
  "metadata": {
    "colab": {
      "provenance": []
    },
    "kernelspec": {
      "display_name": "eda",
      "language": "python",
      "name": "python3"
    },
    "language_info": {
      "codemirror_mode": {
        "name": "ipython",
        "version": 3
      },
      "file_extension": ".py",
      "mimetype": "text/x-python",
      "name": "python",
      "nbconvert_exporter": "python",
      "pygments_lexer": "ipython3",
      "version": "3.11.11"
    }
  },
  "nbformat": 4,
  "nbformat_minor": 0
}
