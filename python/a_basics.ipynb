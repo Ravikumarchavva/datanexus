{
  "cells": [
    {
      "cell_type": "markdown",
      "metadata": {
        "id": "TaB_UlF045ix"
      },
      "source": [
        "# Python Basics\n",
        "\n",
        "Welcome to the Python Basics tutorial! This notebook will guide you through the foundational concepts of Python programming, including variables, data types, input/output, type casting, functions, control flow, and loops. Each section contains explanations and code examples to help you understand and practice Python."
      ]
    },
    {
      "cell_type": "markdown",
      "metadata": {},
      "source": [
        "# Table of Contents\n",
        "1. [Introduction](#introduction)\n",
        "2. [Variables and Data Types](#variables-and-data-types)\n",
        "3. [Binary Representation](#binary-representation)\n",
        "4. [Input](#input)\n",
        "5. [Type Casting](#type-casting)\n",
        "6. [Functions](#functions)\n",
        "7. [Control Flow](#control-flow)\n",
        "8. [Loops](#loops)"
      ]
    },
    {
      "cell_type": "markdown",
      "metadata": {},
      "source": [
        "# Introduction\n",
        "Python is a high-level, interpreted programming language known for its simplicity, readability, and versatility. It supports multiple programming paradigms, including object-oriented and functional programming. Python's extensive standard library and active community make it a popular choice for web development, data analysis, artificial intelligence, scientific computing, and more."
      ]
    },
    {
      "cell_type": "markdown",
      "metadata": {},
      "source": [
        "## Variables and Data Types\n",
        "Variables are used to store data in Python. You do not need to declare the type of a variable explicitly; Python infers the type automatically. Common data types include integers, floats, and strings. Use the `type()` function to check the type of a variable."
      ]
    },
    {
      "cell_type": "code",
      "execution_count": 39,
      "metadata": {
        "colab": {
          "base_uri": "https://localhost:8080/"
        },
        "id": "L-Znoh3Z5Xdl",
        "outputId": "7eef29b3-6e71-469c-d786-47d48aafbd42"
      },
      "outputs": [
        {
          "name": "stdout",
          "output_type": "stream",
          "text": [
            "<class 'int'>\n",
            "<class 'float'>\n",
            "<class 'str'>\n",
            "<class 'str'>\n"
          ]
        }
      ],
      "source": [
        "runs = 60\n",
        "overs = 5.2\n",
        "print(type(runs))\n",
        "print(type(overs))\n",
        "\n",
        "letter = 'a'\n",
        "print(type(letter))\n",
        "\n",
        "batsman = 'Rohit Sharma'\n",
        "print(type(batsman))"
      ]
    },
    {
      "cell_type": "markdown",
      "metadata": {},
      "source": [
        "In the code above:\n",
        "- `runs` is an integer (int)\n",
        "- `overs` is a floating-point number (float)\n",
        "- `run_rate` is calculated by dividing `runs` by `overs`, resulting in a float\n",
        "- `letter` and `batsman` are strings (str)\n",
        "\n",
        "The `type()` function is used to check the type of a variable."
      ]
    },
    {
      "cell_type": "markdown",
      "metadata": {},
      "source": [
        "## Binary Representation\n",
        "\n",
        "You can use the `input()` function to get user input from the keyboard. The input is always returned as a string, so you may need to convert it to another type (e.g., integer or float) for calculations.Computers store numbers in binary (base 2). Integer numbers are stored as binary digits, while floating-point numbers are represented differently and may not always be exact due to how computers store decimals. For example, 0.2 in binary is a repeating fraction, which can lead to precision issues."
      ]
    },
    {
      "cell_type": "markdown",
      "metadata": {},
      "source": [
        "# Input"
      ]
    },
    {
      "cell_type": "code",
      "execution_count": 40,
      "metadata": {},
      "outputs": [
        {
          "name": "stdout",
          "output_type": "stream",
          "text": [
            "324\n",
            "<class 'str'>\n"
          ]
        }
      ],
      "source": [
        "num = input(\"Enter a number: \")\n",
        "print(num)\n",
        "print(type(num))"
      ]
    },
    {
      "cell_type": "markdown",
      "metadata": {
        "id": "t7s4d2KjG9jI"
      },
      "source": [
        "## Type Casting\n",
        "Functions are reusable blocks of code that perform a specific task. You define a function using the `def` keyword. Functions can have parameters, return values, default arguments, and can accept a variable number of arguments using `*args` and `**kwargs`.\n",
        "- **Explicit casting:** You manually convert a value to another type.\n",
        "- **Implicit casting:** Python automatically converts a value to another type during an operation."
      ]
    },
    {
      "cell_type": "code",
      "execution_count": 41,
      "metadata": {},
      "outputs": [
        {
          "name": "stdout",
          "output_type": "stream",
          "text": [
            "100\n",
            "100.0\n",
            "11.538461538461538\n",
            "<class 'float'>\n"
          ]
        }
      ],
      "source": [
        "# Explicit type casting\n",
        "num_str = \"100\"\n",
        "num_int = int(num_str)  # Convert string to integer\n",
        "num_float = float(num_str)  # Convert string to float\n",
        "\n",
        "print(num_int)\n",
        "print(num_float)\n",
        "\n",
        "# Implicit type casting\n",
        "run_rate = runs / overs\n",
        "print(run_rate)\n",
        "print(type(run_rate))"
      ]
    },
    {
      "cell_type": "markdown",
      "metadata": {},
      "source": [
        "In the code above:\n",
        "- We convert a string containing numbers to an integer and a float using `int()` and `float()`.\n",
        "- This is called explicit type casting."
      ]
    },
    {
      "cell_type": "markdown",
      "metadata": {},
      "source": [
        "# Functions\n",
        "- Functions are reusable blocks of code that perform a specific task. You define a function using the `def` keyword."
      ]
    },
    {
      "cell_type": "code",
      "execution_count": 42,
      "metadata": {},
      "outputs": [
        {
          "name": "stdout",
          "output_type": "stream",
          "text": [
            "Hello, Alice!\n"
          ]
        }
      ],
      "source": [
        "# Simple function example\n",
        "def greet(name : str) -> str:\n",
        "    \"\"\"\n",
        "    Function to greet a person with their name.\n",
        "    \n",
        "    :param name: Name of the person\n",
        "    :return: Greeting message\n",
        "    \"\"\"\n",
        "    return f\"Hello, {name}!\"\n",
        "\n",
        "message = greet(\"Alice\")\n",
        "print(message)"
      ]
    },
    {
      "cell_type": "markdown",
      "metadata": {},
      "source": [
        "In the code above:\n",
        "- We define a function `greet` that takes a parameter and returns a greeting message.\n",
        "- We call the function with the argument \"Alice\" and print the result."
      ]
    },
    {
      "cell_type": "code",
      "execution_count": 43,
      "metadata": {
        "colab": {
          "base_uri": "https://localhost:8080/"
        },
        "id": "-oSCMKpQG_kc",
        "outputId": "2e3d7de1-36ad-41f5-fc8e-ce77e2542706"
      },
      "outputs": [
        {
          "name": "stdout",
          "output_type": "stream",
          "text": [
            "Ticket booked at 2025-05-17 13:22:28.014228 with 100 rupees\n"
          ]
        }
      ],
      "source": [
        "from datetime import datetime\n",
        "\n",
        "def book_ticket(location_1, location_2):\n",
        "  distance = abs(int(location_1) -  int(location_2))\n",
        "  fare = 100 * distance\n",
        "  print(f\"Ticket booked at {datetime.now()} with {fare} rupees\")\n",
        "\n",
        "book_ticket('1', '2')"
      ]
    },
    {
      "cell_type": "markdown",
      "metadata": {},
      "source": [
        "In the code above:\n",
        "- `book_ticket` is a function that calculates the fare between two locations and prints a message with the current date and time.\n",
        "- The function is called with the arguments `'1'` and `'2'`."
      ]
    },
    {
      "cell_type": "code",
      "execution_count": 44,
      "metadata": {},
      "outputs": [
        {
          "name": "stdout",
          "output_type": "stream",
          "text": [
            "Name: Alice\n",
            "Age: 25\n"
          ]
        }
      ],
      "source": [
        "# function with default args\n",
        "def print_info(name, age=25):\n",
        "    print(f\"Name: {name}\")\n",
        "    print(f\"Age: {age}\")\n",
        "print_info(\"Alice\")  # Uses default age"
      ]
    },
    {
      "cell_type": "markdown",
      "metadata": {},
      "source": [
        "# *args and **kwargs\n",
        "- Pass a variable number of arguments to a function.\n",
        "- `*args` allows you to pass a variable number of non-keyword arguments.\n",
        "- `**kwargs` allows you to pass a variable number of keyword arguments."
      ]
    },
    {
      "cell_type": "code",
      "execution_count": 45,
      "metadata": {},
      "outputs": [
        {
          "name": "stdout",
          "output_type": "stream",
          "text": [
            "1\n",
            "2\n",
            "3\n",
            "4\n",
            "5\n"
          ]
        }
      ],
      "source": [
        "# function with variable length args\n",
        "def print_numbers(*args):\n",
        "    for number in args:\n",
        "        print(number)\n",
        "print_numbers(1, 2, 3, 4, 5)  # Passes variable number of arguments"
      ]
    },
    {
      "cell_type": "code",
      "execution_count": 46,
      "metadata": {},
      "outputs": [
        {
          "name": "stdout",
          "output_type": "stream",
          "text": [
            "name: Alice\n",
            "age: 30\n",
            "city: New York\n"
          ]
        }
      ],
      "source": [
        "# function with variable length kwargs\n",
        "def print_info(**kwargs):\n",
        "    for key, value in kwargs.items():\n",
        "        print(f\"{key}: {value}\")\n",
        "print_info(name=\"Alice\", age=30, city=\"New York\")  # Passes variable number of keyword arguments"
      ]
    },
    {
      "cell_type": "markdown",
      "metadata": {
        "id": "CZKSv5tU7fky"
      },
      "source": [
        "## Dynamically Typed Language\n",
        "Python is dynamically typed, meaning you do not need to declare the type of a variable when you create it. The type is determined at runtime based on the value assigned to the variable. You can use type hints to suggest types, but Python does not enforce them."
      ]
    },
    {
      "cell_type": "code",
      "execution_count": 47,
      "metadata": {
        "colab": {
          "base_uri": "https://localhost:8080/"
        },
        "id": "W93SWTaj617b",
        "outputId": "7f94a423-b796-4329-e16f-333326aaae80"
      },
      "outputs": [
        {
          "name": "stdout",
          "output_type": "stream",
          "text": [
            "False\n",
            "<class 'int'>\n"
          ]
        }
      ],
      "source": [
        "## Functions\n",
        "\n",
        "runs : float = 60\n",
        "print(isinstance(runs, float))\n",
        "print(type(runs))"
      ]
    },
    {
      "cell_type": "markdown",
      "metadata": {},
      "source": [
        "In the code above:\n",
        "- `runs: float = 60` uses a type hint to suggest that `runs` should be a float, but Python does not enforce this.\n",
        "- `isinstance()` checks if a variable is of a specific type."
      ]
    },
    {
      "cell_type": "markdown",
      "metadata": {},
      "source": [
        "### Type Hints and Errors\n",
        "Type hints allow you to indicate what type of arguments a function expects and what type it returns. However, Python does not enforce these types at runtime. If you pass the wrong type, you may get a runtime error."
      ]
    },
    {
      "cell_type": "code",
      "execution_count": 48,
      "metadata": {
        "colab": {
          "base_uri": "https://localhost:8080/",
          "height": 280
        },
        "id": "xetJvzS18F8J",
        "outputId": "feeead51-61ee-4cb7-f262-29a6e56afffa"
      },
      "outputs": [],
      "source": [
        "def add(a : int, b: int) -> int:\n",
        "    print(a + b)\n",
        "\n",
        "# add(1,'2')"
      ]
    },
    {
      "cell_type": "markdown",
      "metadata": {},
      "source": [
        "# Control Flow\n",
        "- Control flow statements allow you to control the execution of your code based on certain conditions.\n",
        "- The `if`, `elif`, `else` and `match` statements are used for conditional execution."
      ]
    },
    {
      "cell_type": "code",
      "execution_count": 49,
      "metadata": {},
      "outputs": [
        {
          "name": "stdout",
          "output_type": "stream",
          "text": [
            "John is eligible for a license.\n"
          ]
        }
      ],
      "source": [
        "def get_license(name: str, age: int) -> str:\n",
        "    \"\"\"\n",
        "    Function to get a license for a person.\n",
        "    \n",
        "    :param name: Name of the person\n",
        "    :param age: Age of the person\n",
        "    :return: License message\n",
        "    \"\"\"\n",
        "    if age >= 18:\n",
        "        return f\"{name} is eligible for a license.\"\n",
        "    else:\n",
        "        return f\"{name} is not eligible for a license.\"\n",
        "# Example usage\n",
        "name = \"John\"\n",
        "age = 20\n",
        "license_message = get_license(name, age)\n",
        "print(license_message)"
      ]
    },
    {
      "cell_type": "code",
      "execution_count": 50,
      "metadata": {},
      "outputs": [
        {
          "name": "stdout",
          "output_type": "stream",
          "text": [
            "Area of the circle: 78.5\n",
            "Area of the rectangle: 24\n",
            "Area of the triangle: 0.0\n"
          ]
        }
      ],
      "source": [
        "def calculate_area(shape: str, **kwargs) -> float:\n",
        "    \"\"\"\n",
        "    Function to calculate the area of different shapes.\n",
        "    \n",
        "    :param shape: Type of shape (e.g., 'circle', 'rectangle')\n",
        "    :param kwargs: Additional parameters for the shape\n",
        "    :return: Area of the shape\n",
        "    \"\"\"\n",
        "    if shape == 'circle':\n",
        "        radius = kwargs.get('radius', 0)\n",
        "        return 3.14 * radius ** 2\n",
        "    elif shape == 'rectangle':\n",
        "        length = kwargs.get('length', 0)\n",
        "        width = kwargs.get('width', 0)\n",
        "        return length * width\n",
        "    else:\n",
        "        return 0.0\n",
        "    \n",
        "# Example usage\n",
        "shape = 'circle'\n",
        "radius = 5\n",
        "area = calculate_area(shape, radius=radius)\n",
        "print(f\"Area of the {shape}: {area}\")\n",
        "shape = 'rectangle'\n",
        "length = 4\n",
        "width = 6\n",
        "area = calculate_area(shape, length=length, width=width)\n",
        "print(f\"Area of the {shape}: {area}\")\n",
        "\n",
        "shape = 'triangle'\n",
        "base = 4\n",
        "height = 5\n",
        "area = calculate_area(shape, base=base, height=height)\n",
        "print(f\"Area of the {shape}: {area}\")"
      ]
    },
    {
      "cell_type": "code",
      "execution_count": 51,
      "metadata": {},
      "outputs": [
        {
          "name": "stdout",
          "output_type": "stream",
          "text": [
            "Value is 1\n"
          ]
        }
      ],
      "source": [
        "# switch case\n",
        "def switch_case(value: int) -> None:\n",
        "    \"\"\"\n",
        "    Switch case example using match statement.\n",
        "    :param value: Value to match\n",
        "    :return: None\n",
        "    \"\"\"\n",
        "    match value:\n",
        "        case 1:\n",
        "            print(\"Value is 1\")\n",
        "        case 2:\n",
        "            print(\"Value is 2\")\n",
        "        case _:\n",
        "            print(\"Value is something else\")\n",
        "switch_case(1)"
      ]
    },
    {
      "cell_type": "code",
      "execution_count": 52,
      "metadata": {},
      "outputs": [
        {
          "name": "stdout",
          "output_type": "stream",
          "text": [
            "The case of 10 is: Positive\n"
          ]
        }
      ],
      "source": [
        "def get_case(value: int) -> str:\n",
        "    \"\"\"\n",
        "    Function to determine if a number is positive, negative, or zero.\n",
        "    \n",
        "    :param value: The number to check\n",
        "    :return: A string indicating the case of the number\n",
        "    \"\"\"\n",
        "    match value:\n",
        "        case _ if value > 0:\n",
        "            return \"Positive\"\n",
        "        case _ if value < 0:\n",
        "            return \"Negative\"\n",
        "        case _:\n",
        "            return \"Zero\"\n",
        "# Example usage\n",
        "value = 10\n",
        "case_result = get_case(value)\n",
        "print(f\"The case of {value} is: {case_result}\")"
      ]
    },
    {
      "cell_type": "markdown",
      "metadata": {
        "id": "sKBIW_jFNYTA"
      },
      "source": [
        "# Loops\n",
        "Loops allow you to execute a block of code multiple times. The `for` and `while` loops are used for iteration. The `break` and `continue` statements control the flow of loops. You can use `range()`, `enumerate()`, and `zip()` to iterate over sequences in different ways."
      ]
    },
    {
      "cell_type": "code",
      "execution_count": 53,
      "metadata": {},
      "outputs": [
        {
          "name": "stdout",
          "output_type": "stream",
          "text": [
            "Iteration: 0\n",
            "Iteration: 1\n",
            "Iteration: 2\n"
          ]
        }
      ],
      "source": [
        "# Simple for loop\n",
        "for i in range(3):\n",
        "    print(\"Iteration:\", i)"
      ]
    },
    {
      "cell_type": "markdown",
      "metadata": {},
      "source": [
        "In the code above:\n",
        "- The `for` loop repeats the code inside it 3 times.\n",
        "- `range(3)` generates the numbers 0, 1, and 2."
      ]
    },
    {
      "cell_type": "code",
      "execution_count": 54,
      "metadata": {
        "colab": {
          "base_uri": "https://localhost:8080/"
        },
        "id": "o5wq4qoXN-Yd",
        "outputId": "230189a3-b149-4dc1-8141-fc314d5becf6"
      },
      "outputs": [
        {
          "name": "stdout",
          "output_type": "stream",
          "text": [
            "1\n",
            "2\n",
            "3\n",
            "4\n"
          ]
        }
      ],
      "source": [
        "for i in range(1,5):\n",
        "    print(i)"
      ]
    },
    {
      "cell_type": "code",
      "execution_count": 55,
      "metadata": {
        "colab": {
          "base_uri": "https://localhost:8080/"
        },
        "id": "EtyKsDVLOD-1",
        "outputId": "9d3a0006-46cb-4433-f364-882488c0b9aa"
      },
      "outputs": [
        {
          "name": "stdout",
          "output_type": "stream",
          "text": [
            "1\n",
            "3\n"
          ]
        }
      ],
      "source": [
        "for i in range(1,5,2):\n",
        "    print(i)"
      ]
    },
    {
      "cell_type": "code",
      "execution_count": 56,
      "metadata": {
        "colab": {
          "base_uri": "https://localhost:8080/"
        },
        "id": "TWcRUyOFOjZ-",
        "outputId": "108d5801-59e7-44cd-d3c4-47db7e48ca92"
      },
      "outputs": [
        {
          "name": "stdout",
          "output_type": "stream",
          "text": [
            "0 10\n",
            "1 20\n",
            "2 30\n",
            "3 40\n",
            "4 50\n"
          ]
        }
      ],
      "source": [
        "inputs = [1, 2, 3, 4, 5]\n",
        "outputs = [10, 20 , 30, 40, 50]\n",
        "for idx, i in enumerate(outputs):\n",
        "    print(idx, i)"
      ]
    },
    {
      "cell_type": "code",
      "execution_count": 57,
      "metadata": {
        "colab": {
          "base_uri": "https://localhost:8080/"
        },
        "id": "33Wg-Y8VOwQy",
        "outputId": "ae1545fc-9723-4703-8982-ae54801a04c3"
      },
      "outputs": [
        {
          "name": "stdout",
          "output_type": "stream",
          "text": [
            "1 10\n",
            "2 20\n",
            "3 30\n",
            "4 40\n",
            "5 50\n"
          ]
        }
      ],
      "source": [
        "for i,j in zip(inputs, outputs):\n",
        "    print(i,j)"
      ]
    },
    {
      "cell_type": "code",
      "execution_count": 58,
      "metadata": {},
      "outputs": [
        {
          "name": "stdout",
          "output_type": "stream",
          "text": [
            "1\n",
            "2\n",
            "3\n",
            "4\n"
          ]
        }
      ],
      "source": [
        "for i in range(1, 10):\n",
        "    if i == 5:\n",
        "        break\n",
        "    print(i)"
      ]
    },
    {
      "cell_type": "code",
      "execution_count": 60,
      "metadata": {},
      "outputs": [
        {
          "name": "stdout",
          "output_type": "stream",
          "text": [
            "5\n",
            "6\n",
            "7\n",
            "8\n",
            "9\n"
          ]
        }
      ],
      "source": [
        "for i in range(1, 10):\n",
        "    if i < 5:\n",
        "        continue\n",
        "    print(i)"
      ]
    },
    {
      "cell_type": "markdown",
      "metadata": {},
      "source": [
        "---\n",
        "\n",
        "Congratulations! You have completed the Python Basics tutorial."
      ]
    }
  ],
  "metadata": {
    "colab": {
      "provenance": []
    },
    "kernelspec": {
      "display_name": ".venv",
      "language": "python",
      "name": "python3"
    },
    "language_info": {
      "codemirror_mode": {
        "name": "ipython",
        "version": 3
      },
      "file_extension": ".py",
      "mimetype": "text/x-python",
      "name": "python",
      "nbconvert_exporter": "python",
      "pygments_lexer": "ipython3",
      "version": "3.13.3"
    }
  },
  "nbformat": 4,
  "nbformat_minor": 0
}
